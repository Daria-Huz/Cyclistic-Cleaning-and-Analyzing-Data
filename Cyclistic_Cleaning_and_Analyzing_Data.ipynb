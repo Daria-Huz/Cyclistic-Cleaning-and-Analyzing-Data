{
 "cells": [
  {
   "cell_type": "markdown",
   "id": "710098ac",
   "metadata": {
    "execution": {
     "iopub.execute_input": "2024-01-12T14:32:08.733698Z",
     "iopub.status.busy": "2024-01-12T14:32:08.730509Z",
     "iopub.status.idle": "2024-01-12T14:32:10.184228Z"
    },
    "jupyter": {
     "outputs_hidden": true
    },
    "papermill": {
     "duration": 0.011699,
     "end_time": "2024-01-12T15:53:49.482770",
     "exception": false,
     "start_time": "2024-01-12T15:53:49.471071",
     "status": "completed"
    },
    "tags": []
   },
   "source": [
    "# Cyclistic\n",
    "\n",
    "### Business task:\n",
    "\n",
    "The company wants to improve their earnings reaching out to their “casual” riders, and for that they have to analyze in what aspects the “casual” and the annual customers differ, to be able to create a focused and successful marketing message to the “casual” customers that makes them change to the annual subscription.\n"
   ]
  },
  {
   "cell_type": "markdown",
   "id": "3ece5693",
   "metadata": {
    "papermill": {
     "duration": 0.011201,
     "end_time": "2024-01-12T15:53:49.504951",
     "exception": false,
     "start_time": "2024-01-12T15:53:49.493750",
     "status": "completed"
    },
    "tags": []
   },
   "source": [
    "# 1. Download packages"
   ]
  },
  {
   "cell_type": "code",
   "execution_count": 1,
   "id": "e548bfee",
   "metadata": {
    "execution": {
     "iopub.execute_input": "2024-01-12T15:53:49.531785Z",
     "iopub.status.busy": "2024-01-12T15:53:49.529201Z",
     "iopub.status.idle": "2024-01-12T15:53:50.838636Z",
     "shell.execute_reply": "2024-01-12T15:53:50.836692Z"
    },
    "papermill": {
     "duration": 1.32544,
     "end_time": "2024-01-12T15:53:50.841341",
     "exception": false,
     "start_time": "2024-01-12T15:53:49.515901",
     "status": "completed"
    },
    "tags": []
   },
   "outputs": [
    {
     "name": "stderr",
     "output_type": "stream",
     "text": [
      "── \u001b[1mAttaching core tidyverse packages\u001b[22m ──────────────────────── tidyverse 2.0.0 ──\n",
      "\u001b[32m✔\u001b[39m \u001b[34mdplyr    \u001b[39m 1.1.4     \u001b[32m✔\u001b[39m \u001b[34mreadr    \u001b[39m 2.1.4\n",
      "\u001b[32m✔\u001b[39m \u001b[34mforcats  \u001b[39m 1.0.0     \u001b[32m✔\u001b[39m \u001b[34mstringr  \u001b[39m 1.5.1\n",
      "\u001b[32m✔\u001b[39m \u001b[34mggplot2  \u001b[39m 3.4.4     \u001b[32m✔\u001b[39m \u001b[34mtibble   \u001b[39m 3.2.1\n",
      "\u001b[32m✔\u001b[39m \u001b[34mlubridate\u001b[39m 1.9.3     \u001b[32m✔\u001b[39m \u001b[34mtidyr    \u001b[39m 1.3.0\n",
      "\u001b[32m✔\u001b[39m \u001b[34mpurrr    \u001b[39m 1.0.2     \n",
      "── \u001b[1mConflicts\u001b[22m ────────────────────────────────────────── tidyverse_conflicts() ──\n",
      "\u001b[31m✖\u001b[39m \u001b[34mdplyr\u001b[39m::\u001b[32mfilter()\u001b[39m masks \u001b[34mstats\u001b[39m::filter()\n",
      "\u001b[31m✖\u001b[39m \u001b[34mdplyr\u001b[39m::\u001b[32mlag()\u001b[39m    masks \u001b[34mstats\u001b[39m::lag()\n",
      "\u001b[36mℹ\u001b[39m Use the conflicted package (\u001b[3m\u001b[34m<http://conflicted.r-lib.org/>\u001b[39m\u001b[23m) to force all conflicts to become errors\n"
     ]
    }
   ],
   "source": [
    "library(tidyverse)\n",
    "library(lubridate)\n",
    "library(ggplot2)"
   ]
  },
  {
   "cell_type": "markdown",
   "id": "c0b76ada",
   "metadata": {
    "papermill": {
     "duration": 0.010313,
     "end_time": "2024-01-12T15:53:50.862156",
     "exception": false,
     "start_time": "2024-01-12T15:53:50.851843",
     "status": "completed"
    },
    "tags": []
   },
   "source": [
    "# 2. Import datasets"
   ]
  },
  {
   "cell_type": "code",
   "execution_count": 2,
   "id": "91e34d61",
   "metadata": {
    "collapsed": true,
    "execution": {
     "iopub.execute_input": "2024-01-12T15:53:50.919759Z",
     "iopub.status.busy": "2024-01-12T15:53:50.885575Z",
     "iopub.status.idle": "2024-01-12T15:54:14.030722Z",
     "shell.execute_reply": "2024-01-12T15:54:14.028481Z"
    },
    "jupyter": {
     "outputs_hidden": true
    },
    "papermill": {
     "duration": 23.16172,
     "end_time": "2024-01-12T15:54:14.034451",
     "exception": false,
     "start_time": "2024-01-12T15:53:50.872731",
     "status": "completed"
    },
    "tags": []
   },
   "outputs": [
    {
     "name": "stderr",
     "output_type": "stream",
     "text": [
      "\u001b[1mRows: \u001b[22m\u001b[34m1108163\u001b[39m \u001b[1mColumns: \u001b[22m\u001b[34m12\u001b[39m\n",
      "\u001b[36m──\u001b[39m \u001b[1mColumn specification\u001b[22m \u001b[36m────────────────────────────────────────────────────────\u001b[39m\n",
      "\u001b[1mDelimiter:\u001b[22m \",\"\n",
      "\u001b[31mchr\u001b[39m  (4): 03 - Rental Start Station Name, 02 - Rental End Station Name, User...\n",
      "\u001b[32mdbl\u001b[39m  (5): 01 - Rental Details Rental ID, 01 - Rental Details Bike ID, 03 - R...\n",
      "\u001b[32mnum\u001b[39m  (1): 01 - Rental Details Duration In Seconds Uncapped\n",
      "\u001b[34mdttm\u001b[39m (2): 01 - Rental Details Local Start Time, 01 - Rental Details Local En...\n",
      "\n",
      "\u001b[36mℹ\u001b[39m Use `spec()` to retrieve the full column specification for this data.\n",
      "\u001b[36mℹ\u001b[39m Specify the column types or set `show_col_types = FALSE` to quiet this message.\n",
      "\u001b[1mRows: \u001b[22m\u001b[34m1640718\u001b[39m \u001b[1mColumns: \u001b[22m\u001b[34m12\u001b[39m\n",
      "\u001b[36m──\u001b[39m \u001b[1mColumn specification\u001b[22m \u001b[36m────────────────────────────────────────────────────────\u001b[39m\n",
      "\u001b[1mDelimiter:\u001b[22m \",\"\n",
      "\u001b[31mchr\u001b[39m  (4): from_station_name, to_station_name, usertype, gender\n",
      "\u001b[32mdbl\u001b[39m  (5): trip_id, bikeid, from_station_id, to_station_id, birthyear\n",
      "\u001b[32mnum\u001b[39m  (1): tripduration\n",
      "\u001b[34mdttm\u001b[39m (2): start_time, end_time\n",
      "\n",
      "\u001b[36mℹ\u001b[39m Use `spec()` to retrieve the full column specification for this data.\n",
      "\u001b[36mℹ\u001b[39m Specify the column types or set `show_col_types = FALSE` to quiet this message.\n",
      "\u001b[1mRows: \u001b[22m\u001b[34m704054\u001b[39m \u001b[1mColumns: \u001b[22m\u001b[34m12\u001b[39m\n",
      "\u001b[36m──\u001b[39m \u001b[1mColumn specification\u001b[22m \u001b[36m────────────────────────────────────────────────────────\u001b[39m\n",
      "\u001b[1mDelimiter:\u001b[22m \",\"\n",
      "\u001b[31mchr\u001b[39m  (4): from_station_name, to_station_name, usertype, gender\n",
      "\u001b[32mdbl\u001b[39m  (5): trip_id, bikeid, from_station_id, to_station_id, birthyear\n",
      "\u001b[32mnum\u001b[39m  (1): tripduration\n",
      "\u001b[34mdttm\u001b[39m (2): start_time, end_time\n",
      "\n",
      "\u001b[36mℹ\u001b[39m Use `spec()` to retrieve the full column specification for this data.\n",
      "\u001b[36mℹ\u001b[39m Specify the column types or set `show_col_types = FALSE` to quiet this message.\n",
      "\u001b[1mRows: \u001b[22m\u001b[34m426887\u001b[39m \u001b[1mColumns: \u001b[22m\u001b[34m13\u001b[39m\n",
      "\u001b[36m──\u001b[39m \u001b[1mColumn specification\u001b[22m \u001b[36m────────────────────────────────────────────────────────\u001b[39m\n",
      "\u001b[1mDelimiter:\u001b[22m \",\"\n",
      "\u001b[31mchr\u001b[39m  (5): ride_id, rideable_type, start_station_name, end_station_name, memb...\n",
      "\u001b[32mdbl\u001b[39m  (6): start_station_id, end_station_id, start_lat, start_lng, end_lat, e...\n",
      "\u001b[34mdttm\u001b[39m (2): started_at, ended_at\n",
      "\n",
      "\u001b[36mℹ\u001b[39m Use `spec()` to retrieve the full column specification for this data.\n",
      "\u001b[36mℹ\u001b[39m Specify the column types or set `show_col_types = FALSE` to quiet this message.\n"
     ]
    }
   ],
   "source": [
    "q2_2019 <- read_csv(\"/kaggle/input/cyclistic/Divvy_Trips_2019_Q2.csv\")\n",
    "q3_2019 <- read_csv(\"/kaggle/input/cyclistic/Divvy_Trips_2019_Q3.csv\")\n",
    "q4_2019 <- read_csv(\"/kaggle/input/cyclistic/Divvy_Trips_2019_Q4.csv\")\n",
    "q1_2020 <- read_csv(\"/kaggle/input/cyclistic/Divvy_Trips_2020_Q1.csv\")"
   ]
  },
  {
   "cell_type": "markdown",
   "id": "fe98d01e",
   "metadata": {
    "papermill": {
     "duration": 0.01157,
     "end_time": "2024-01-12T15:54:14.058466",
     "exception": false,
     "start_time": "2024-01-12T15:54:14.046896",
     "status": "completed"
    },
    "tags": []
   },
   "source": [
    "# 3. Wrangle data and combine"
   ]
  },
  {
   "cell_type": "code",
   "execution_count": 3,
   "id": "daa6a4fa",
   "metadata": {
    "execution": {
     "iopub.execute_input": "2024-01-12T15:54:14.085974Z",
     "iopub.status.busy": "2024-01-12T15:54:14.084169Z",
     "iopub.status.idle": "2024-01-12T15:54:14.130746Z",
     "shell.execute_reply": "2024-01-12T15:54:14.128264Z"
    },
    "papermill": {
     "duration": 0.063658,
     "end_time": "2024-01-12T15:54:14.133904",
     "exception": false,
     "start_time": "2024-01-12T15:54:14.070246",
     "status": "completed"
    },
    "tags": []
   },
   "outputs": [
    {
     "data": {
      "text/html": [
       "<style>\n",
       ".list-inline {list-style: none; margin:0; padding: 0}\n",
       ".list-inline>li {display: inline-block}\n",
       ".list-inline>li:not(:last-child)::after {content: \"\\00b7\"; padding: 0 .5ex}\n",
       "</style>\n",
       "<ol class=list-inline><li>'01 - Rental Details Rental ID'</li><li>'01 - Rental Details Local Start Time'</li><li>'01 - Rental Details Local End Time'</li><li>'01 - Rental Details Bike ID'</li><li>'01 - Rental Details Duration In Seconds Uncapped'</li><li>'03 - Rental Start Station ID'</li><li>'03 - Rental Start Station Name'</li><li>'02 - Rental End Station ID'</li><li>'02 - Rental End Station Name'</li><li>'User Type'</li><li>'Member Gender'</li><li>'05 - Member Details Member Birthday Year'</li></ol>\n"
      ],
      "text/latex": [
       "\\begin{enumerate*}\n",
       "\\item '01 - Rental Details Rental ID'\n",
       "\\item '01 - Rental Details Local Start Time'\n",
       "\\item '01 - Rental Details Local End Time'\n",
       "\\item '01 - Rental Details Bike ID'\n",
       "\\item '01 - Rental Details Duration In Seconds Uncapped'\n",
       "\\item '03 - Rental Start Station ID'\n",
       "\\item '03 - Rental Start Station Name'\n",
       "\\item '02 - Rental End Station ID'\n",
       "\\item '02 - Rental End Station Name'\n",
       "\\item 'User Type'\n",
       "\\item 'Member Gender'\n",
       "\\item '05 - Member Details Member Birthday Year'\n",
       "\\end{enumerate*}\n"
      ],
      "text/markdown": [
       "1. '01 - Rental Details Rental ID'\n",
       "2. '01 - Rental Details Local Start Time'\n",
       "3. '01 - Rental Details Local End Time'\n",
       "4. '01 - Rental Details Bike ID'\n",
       "5. '01 - Rental Details Duration In Seconds Uncapped'\n",
       "6. '03 - Rental Start Station ID'\n",
       "7. '03 - Rental Start Station Name'\n",
       "8. '02 - Rental End Station ID'\n",
       "9. '02 - Rental End Station Name'\n",
       "10. 'User Type'\n",
       "11. 'Member Gender'\n",
       "12. '05 - Member Details Member Birthday Year'\n",
       "\n",
       "\n"
      ],
      "text/plain": [
       " [1] \"01 - Rental Details Rental ID\"                   \n",
       " [2] \"01 - Rental Details Local Start Time\"            \n",
       " [3] \"01 - Rental Details Local End Time\"              \n",
       " [4] \"01 - Rental Details Bike ID\"                     \n",
       " [5] \"01 - Rental Details Duration In Seconds Uncapped\"\n",
       " [6] \"03 - Rental Start Station ID\"                    \n",
       " [7] \"03 - Rental Start Station Name\"                  \n",
       " [8] \"02 - Rental End Station ID\"                      \n",
       " [9] \"02 - Rental End Station Name\"                    \n",
       "[10] \"User Type\"                                       \n",
       "[11] \"Member Gender\"                                   \n",
       "[12] \"05 - Member Details Member Birthday Year\"        "
      ]
     },
     "metadata": {},
     "output_type": "display_data"
    },
    {
     "data": {
      "text/html": [
       "<style>\n",
       ".list-inline {list-style: none; margin:0; padding: 0}\n",
       ".list-inline>li {display: inline-block}\n",
       ".list-inline>li:not(:last-child)::after {content: \"\\00b7\"; padding: 0 .5ex}\n",
       "</style>\n",
       "<ol class=list-inline><li>'trip_id'</li><li>'start_time'</li><li>'end_time'</li><li>'bikeid'</li><li>'tripduration'</li><li>'from_station_id'</li><li>'from_station_name'</li><li>'to_station_id'</li><li>'to_station_name'</li><li>'usertype'</li><li>'gender'</li><li>'birthyear'</li></ol>\n"
      ],
      "text/latex": [
       "\\begin{enumerate*}\n",
       "\\item 'trip\\_id'\n",
       "\\item 'start\\_time'\n",
       "\\item 'end\\_time'\n",
       "\\item 'bikeid'\n",
       "\\item 'tripduration'\n",
       "\\item 'from\\_station\\_id'\n",
       "\\item 'from\\_station\\_name'\n",
       "\\item 'to\\_station\\_id'\n",
       "\\item 'to\\_station\\_name'\n",
       "\\item 'usertype'\n",
       "\\item 'gender'\n",
       "\\item 'birthyear'\n",
       "\\end{enumerate*}\n"
      ],
      "text/markdown": [
       "1. 'trip_id'\n",
       "2. 'start_time'\n",
       "3. 'end_time'\n",
       "4. 'bikeid'\n",
       "5. 'tripduration'\n",
       "6. 'from_station_id'\n",
       "7. 'from_station_name'\n",
       "8. 'to_station_id'\n",
       "9. 'to_station_name'\n",
       "10. 'usertype'\n",
       "11. 'gender'\n",
       "12. 'birthyear'\n",
       "\n",
       "\n"
      ],
      "text/plain": [
       " [1] \"trip_id\"           \"start_time\"        \"end_time\"         \n",
       " [4] \"bikeid\"            \"tripduration\"      \"from_station_id\"  \n",
       " [7] \"from_station_name\" \"to_station_id\"     \"to_station_name\"  \n",
       "[10] \"usertype\"          \"gender\"            \"birthyear\"        "
      ]
     },
     "metadata": {},
     "output_type": "display_data"
    },
    {
     "data": {
      "text/html": [
       "<style>\n",
       ".list-inline {list-style: none; margin:0; padding: 0}\n",
       ".list-inline>li {display: inline-block}\n",
       ".list-inline>li:not(:last-child)::after {content: \"\\00b7\"; padding: 0 .5ex}\n",
       "</style>\n",
       "<ol class=list-inline><li>'trip_id'</li><li>'start_time'</li><li>'end_time'</li><li>'bikeid'</li><li>'tripduration'</li><li>'from_station_id'</li><li>'from_station_name'</li><li>'to_station_id'</li><li>'to_station_name'</li><li>'usertype'</li><li>'gender'</li><li>'birthyear'</li></ol>\n"
      ],
      "text/latex": [
       "\\begin{enumerate*}\n",
       "\\item 'trip\\_id'\n",
       "\\item 'start\\_time'\n",
       "\\item 'end\\_time'\n",
       "\\item 'bikeid'\n",
       "\\item 'tripduration'\n",
       "\\item 'from\\_station\\_id'\n",
       "\\item 'from\\_station\\_name'\n",
       "\\item 'to\\_station\\_id'\n",
       "\\item 'to\\_station\\_name'\n",
       "\\item 'usertype'\n",
       "\\item 'gender'\n",
       "\\item 'birthyear'\n",
       "\\end{enumerate*}\n"
      ],
      "text/markdown": [
       "1. 'trip_id'\n",
       "2. 'start_time'\n",
       "3. 'end_time'\n",
       "4. 'bikeid'\n",
       "5. 'tripduration'\n",
       "6. 'from_station_id'\n",
       "7. 'from_station_name'\n",
       "8. 'to_station_id'\n",
       "9. 'to_station_name'\n",
       "10. 'usertype'\n",
       "11. 'gender'\n",
       "12. 'birthyear'\n",
       "\n",
       "\n"
      ],
      "text/plain": [
       " [1] \"trip_id\"           \"start_time\"        \"end_time\"         \n",
       " [4] \"bikeid\"            \"tripduration\"      \"from_station_id\"  \n",
       " [7] \"from_station_name\" \"to_station_id\"     \"to_station_name\"  \n",
       "[10] \"usertype\"          \"gender\"            \"birthyear\"        "
      ]
     },
     "metadata": {},
     "output_type": "display_data"
    },
    {
     "data": {
      "text/html": [
       "<style>\n",
       ".list-inline {list-style: none; margin:0; padding: 0}\n",
       ".list-inline>li {display: inline-block}\n",
       ".list-inline>li:not(:last-child)::after {content: \"\\00b7\"; padding: 0 .5ex}\n",
       "</style>\n",
       "<ol class=list-inline><li>'ride_id'</li><li>'rideable_type'</li><li>'started_at'</li><li>'ended_at'</li><li>'start_station_name'</li><li>'start_station_id'</li><li>'end_station_name'</li><li>'end_station_id'</li><li>'start_lat'</li><li>'start_lng'</li><li>'end_lat'</li><li>'end_lng'</li><li>'member_casual'</li></ol>\n"
      ],
      "text/latex": [
       "\\begin{enumerate*}\n",
       "\\item 'ride\\_id'\n",
       "\\item 'rideable\\_type'\n",
       "\\item 'started\\_at'\n",
       "\\item 'ended\\_at'\n",
       "\\item 'start\\_station\\_name'\n",
       "\\item 'start\\_station\\_id'\n",
       "\\item 'end\\_station\\_name'\n",
       "\\item 'end\\_station\\_id'\n",
       "\\item 'start\\_lat'\n",
       "\\item 'start\\_lng'\n",
       "\\item 'end\\_lat'\n",
       "\\item 'end\\_lng'\n",
       "\\item 'member\\_casual'\n",
       "\\end{enumerate*}\n"
      ],
      "text/markdown": [
       "1. 'ride_id'\n",
       "2. 'rideable_type'\n",
       "3. 'started_at'\n",
       "4. 'ended_at'\n",
       "5. 'start_station_name'\n",
       "6. 'start_station_id'\n",
       "7. 'end_station_name'\n",
       "8. 'end_station_id'\n",
       "9. 'start_lat'\n",
       "10. 'start_lng'\n",
       "11. 'end_lat'\n",
       "12. 'end_lng'\n",
       "13. 'member_casual'\n",
       "\n",
       "\n"
      ],
      "text/plain": [
       " [1] \"ride_id\"            \"rideable_type\"      \"started_at\"        \n",
       " [4] \"ended_at\"           \"start_station_name\" \"start_station_id\"  \n",
       " [7] \"end_station_name\"   \"end_station_id\"     \"start_lat\"         \n",
       "[10] \"start_lng\"          \"end_lat\"            \"end_lng\"           \n",
       "[13] \"member_casual\"     "
      ]
     },
     "metadata": {},
     "output_type": "display_data"
    }
   ],
   "source": [
    "# Compare column names each of the file:\n",
    "\n",
    "colnames(q2_2019)\n",
    "colnames(q3_2019)\n",
    "colnames(q4_2019)\n",
    "colnames(q1_2020)"
   ]
  },
  {
   "cell_type": "code",
   "execution_count": 4,
   "id": "9a1904ea",
   "metadata": {
    "execution": {
     "iopub.execute_input": "2024-01-12T15:54:14.163570Z",
     "iopub.status.busy": "2024-01-12T15:54:14.161836Z",
     "iopub.status.idle": "2024-01-12T15:54:14.396385Z",
     "shell.execute_reply": "2024-01-12T15:54:14.393268Z"
    },
    "papermill": {
     "duration": 0.254338,
     "end_time": "2024-01-12T15:54:14.400965",
     "exception": false,
     "start_time": "2024-01-12T15:54:14.146627",
     "status": "completed"
    },
    "tags": []
   },
   "outputs": [],
   "source": [
    "# Rename columns to make them consistent with q1_2020:\n",
    "\n",
    "q4_2019 <- rename(q4_2019,\n",
    "                  ride_id = trip_id,\n",
    "                  rideable_type = bikeid,\n",
    "                  started_at = start_time,\n",
    "                  ended_at = end_time,\n",
    "                  start_station_name = from_station_name,\n",
    "                  start_station_id = from_station_id,\n",
    "                  end_station_name = to_station_name,\n",
    "                  end_station_id = to_station_id,\n",
    "                  member_casual = usertype)\n",
    "\n",
    "q3_2019 <- rename(q3_2019,\n",
    "                  ride_id = trip_id,\n",
    "                  rideable_type = bikeid,\n",
    "                  started_at = start_time,\n",
    "                  ended_at = end_time,\n",
    "                  start_station_name = from_station_name,\n",
    "                  start_station_id = from_station_id,\n",
    "                  end_station_name = to_station_name,\n",
    "                  end_station_id = to_station_id,\n",
    "                  member_casual = usertype)\n",
    "\n",
    "q2_2019 <- rename(q2_2019,\n",
    "                  ride_id = \"01 - Rental Details Rental ID\",\n",
    "                  rideable_type = \"01 - Rental Details Bike ID\",\n",
    "                  started_at = \"01 - Rental Details Local Start Time\",\n",
    "                  ended_at = \"01 - Rental Details Local End Time\",\n",
    "                  start_station_name = \"03 - Rental Start Station Name\",\n",
    "                  start_station_id = \"03 - Rental Start Station ID\",\n",
    "                  end_station_name = \"02 - Rental End Station Name\",\n",
    "                  end_station_id = \"02 - Rental End Station ID\",\n",
    "                  member_casual = \"User Type\")\n"
   ]
  },
  {
   "cell_type": "code",
   "execution_count": 5,
   "id": "9bb3b4c4",
   "metadata": {
    "execution": {
     "iopub.execute_input": "2024-01-12T15:54:14.431662Z",
     "iopub.status.busy": "2024-01-12T15:54:14.429911Z",
     "iopub.status.idle": "2024-01-12T15:54:14.831598Z",
     "shell.execute_reply": "2024-01-12T15:54:14.829314Z"
    },
    "papermill": {
     "duration": 0.418969,
     "end_time": "2024-01-12T15:54:14.834103",
     "exception": false,
     "start_time": "2024-01-12T15:54:14.415134",
     "status": "completed"
    },
    "tags": []
   },
   "outputs": [
    {
     "name": "stdout",
     "output_type": "stream",
     "text": [
      "spc_tbl_ [426,887 × 13] (S3: spec_tbl_df/tbl_df/tbl/data.frame)\n",
      " $ ride_id           : chr [1:426887] \"EACB19130B0CDA4A\" \"8FED874C809DC021\" \"789F3C21E472CA96\" \"C9A388DAC6ABF313\" ...\n",
      " $ rideable_type     : chr [1:426887] \"docked_bike\" \"docked_bike\" \"docked_bike\" \"docked_bike\" ...\n",
      " $ started_at        : POSIXct[1:426887], format: \"2020-01-21 20:06:59\" \"2020-01-30 14:22:39\" ...\n",
      " $ ended_at          : POSIXct[1:426887], format: \"2020-01-21 20:14:30\" \"2020-01-30 14:26:22\" ...\n",
      " $ start_station_name: chr [1:426887] \"Western Ave & Leland Ave\" \"Clark St & Montrose Ave\" \"Broadway & Belmont Ave\" \"Clark St & Randolph St\" ...\n",
      " $ start_station_id  : num [1:426887] 239 234 296 51 66 212 96 96 212 38 ...\n",
      " $ end_station_name  : chr [1:426887] \"Clark St & Leland Ave\" \"Southport Ave & Irving Park Rd\" \"Wilton Ave & Belmont Ave\" \"Fairbanks Ct & Grand Ave\" ...\n",
      " $ end_station_id    : num [1:426887] 326 318 117 24 212 96 212 212 96 100 ...\n",
      " $ start_lat         : num [1:426887] 42 42 41.9 41.9 41.9 ...\n",
      " $ start_lng         : num [1:426887] -87.7 -87.7 -87.6 -87.6 -87.6 ...\n",
      " $ end_lat           : num [1:426887] 42 42 41.9 41.9 41.9 ...\n",
      " $ end_lng           : num [1:426887] -87.7 -87.7 -87.7 -87.6 -87.6 ...\n",
      " $ member_casual     : chr [1:426887] \"member\" \"member\" \"member\" \"member\" ...\n",
      " - attr(*, \"spec\")=\n",
      "  .. cols(\n",
      "  ..   ride_id = \u001b[31mcol_character()\u001b[39m,\n",
      "  ..   rideable_type = \u001b[31mcol_character()\u001b[39m,\n",
      "  ..   started_at = \u001b[34mcol_datetime(format = \"\")\u001b[39m,\n",
      "  ..   ended_at = \u001b[34mcol_datetime(format = \"\")\u001b[39m,\n",
      "  ..   start_station_name = \u001b[31mcol_character()\u001b[39m,\n",
      "  ..   start_station_id = \u001b[32mcol_double()\u001b[39m,\n",
      "  ..   end_station_name = \u001b[31mcol_character()\u001b[39m,\n",
      "  ..   end_station_id = \u001b[32mcol_double()\u001b[39m,\n",
      "  ..   start_lat = \u001b[32mcol_double()\u001b[39m,\n",
      "  ..   start_lng = \u001b[32mcol_double()\u001b[39m,\n",
      "  ..   end_lat = \u001b[32mcol_double()\u001b[39m,\n",
      "  ..   end_lng = \u001b[32mcol_double()\u001b[39m,\n",
      "  ..   member_casual = \u001b[31mcol_character()\u001b[39m\n",
      "  .. )\n",
      " - attr(*, \"problems\")=<externalptr> \n",
      "spc_tbl_ [704,054 × 12] (S3: spec_tbl_df/tbl_df/tbl/data.frame)\n",
      " $ ride_id           : num [1:704054] 25223640 25223641 25223642 25223643 25223644 ...\n",
      " $ started_at        : POSIXct[1:704054], format: \"2019-10-01 00:01:39\" \"2019-10-01 00:02:16\" ...\n",
      " $ ended_at          : POSIXct[1:704054], format: \"2019-10-01 00:17:20\" \"2019-10-01 00:06:34\" ...\n",
      " $ rideable_type     : num [1:704054] 2215 6328 3003 3275 5294 ...\n",
      " $ tripduration      : num [1:704054] 940 258 850 2350 1867 ...\n",
      " $ start_station_id  : num [1:704054] 20 19 84 313 210 156 84 156 156 336 ...\n",
      " $ start_station_name: chr [1:704054] \"Sheffield Ave & Kingsbury St\" \"Throop (Loomis) St & Taylor St\" \"Milwaukee Ave & Grand Ave\" \"Lakeview Ave & Fullerton Pkwy\" ...\n",
      " $ end_station_id    : num [1:704054] 309 241 199 290 382 226 142 463 463 336 ...\n",
      " $ end_station_name  : chr [1:704054] \"Leavitt St & Armitage Ave\" \"Morgan St & Polk St\" \"Wabash Ave & Grand Ave\" \"Kedzie Ave & Palmer Ct\" ...\n",
      " $ member_casual     : chr [1:704054] \"Subscriber\" \"Subscriber\" \"Subscriber\" \"Subscriber\" ...\n",
      " $ gender            : chr [1:704054] \"Male\" \"Male\" \"Female\" \"Male\" ...\n",
      " $ birthyear         : num [1:704054] 1987 1998 1991 1990 1987 ...\n",
      " - attr(*, \"spec\")=\n",
      "  .. cols(\n",
      "  ..   trip_id = \u001b[32mcol_double()\u001b[39m,\n",
      "  ..   start_time = \u001b[34mcol_datetime(format = \"\")\u001b[39m,\n",
      "  ..   end_time = \u001b[34mcol_datetime(format = \"\")\u001b[39m,\n",
      "  ..   bikeid = \u001b[32mcol_double()\u001b[39m,\n",
      "  ..   tripduration = \u001b[32mcol_number()\u001b[39m,\n",
      "  ..   from_station_id = \u001b[32mcol_double()\u001b[39m,\n",
      "  ..   from_station_name = \u001b[31mcol_character()\u001b[39m,\n",
      "  ..   to_station_id = \u001b[32mcol_double()\u001b[39m,\n",
      "  ..   to_station_name = \u001b[31mcol_character()\u001b[39m,\n",
      "  ..   usertype = \u001b[31mcol_character()\u001b[39m,\n",
      "  ..   gender = \u001b[31mcol_character()\u001b[39m,\n",
      "  ..   birthyear = \u001b[32mcol_double()\u001b[39m\n",
      "  .. )\n",
      " - attr(*, \"problems\")=<externalptr> \n",
      "spc_tbl_ [1,640,718 × 12] (S3: spec_tbl_df/tbl_df/tbl/data.frame)\n",
      " $ ride_id           : num [1:1640718] 23479388 23479389 23479390 23479391 23479392 ...\n",
      " $ started_at        : POSIXct[1:1640718], format: \"2019-07-01 00:00:27\" \"2019-07-01 00:01:16\" ...\n",
      " $ ended_at          : POSIXct[1:1640718], format: \"2019-07-01 00:20:41\" \"2019-07-01 00:18:44\" ...\n",
      " $ rideable_type     : num [1:1640718] 3591 5353 6180 5540 6014 ...\n",
      " $ tripduration      : num [1:1640718] 1214 1048 1554 1503 1213 ...\n",
      " $ start_station_id  : num [1:1640718] 117 381 313 313 168 300 168 313 43 43 ...\n",
      " $ start_station_name: chr [1:1640718] \"Wilton Ave & Belmont Ave\" \"Western Ave & Monroe St\" \"Lakeview Ave & Fullerton Pkwy\" \"Lakeview Ave & Fullerton Pkwy\" ...\n",
      " $ end_station_id    : num [1:1640718] 497 203 144 144 62 232 62 144 195 195 ...\n",
      " $ end_station_name  : chr [1:1640718] \"Kimball Ave & Belmont Ave\" \"Western Ave & 21st St\" \"Larrabee St & Webster Ave\" \"Larrabee St & Webster Ave\" ...\n",
      " $ member_casual     : chr [1:1640718] \"Subscriber\" \"Customer\" \"Customer\" \"Customer\" ...\n",
      " $ gender            : chr [1:1640718] \"Male\" NA NA NA ...\n",
      " $ birthyear         : num [1:1640718] 1992 NA NA NA NA ...\n",
      " - attr(*, \"spec\")=\n",
      "  .. cols(\n",
      "  ..   trip_id = \u001b[32mcol_double()\u001b[39m,\n",
      "  ..   start_time = \u001b[34mcol_datetime(format = \"\")\u001b[39m,\n",
      "  ..   end_time = \u001b[34mcol_datetime(format = \"\")\u001b[39m,\n",
      "  ..   bikeid = \u001b[32mcol_double()\u001b[39m,\n",
      "  ..   tripduration = \u001b[32mcol_number()\u001b[39m,\n",
      "  ..   from_station_id = \u001b[32mcol_double()\u001b[39m,\n",
      "  ..   from_station_name = \u001b[31mcol_character()\u001b[39m,\n",
      "  ..   to_station_id = \u001b[32mcol_double()\u001b[39m,\n",
      "  ..   to_station_name = \u001b[31mcol_character()\u001b[39m,\n",
      "  ..   usertype = \u001b[31mcol_character()\u001b[39m,\n",
      "  ..   gender = \u001b[31mcol_character()\u001b[39m,\n",
      "  ..   birthyear = \u001b[32mcol_double()\u001b[39m\n",
      "  .. )\n",
      " - attr(*, \"problems\")=<externalptr> \n",
      "spc_tbl_ [1,108,163 × 12] (S3: spec_tbl_df/tbl_df/tbl/data.frame)\n",
      " $ ride_id                                         : num [1:1108163] 22178529 22178530 22178531 22178532 22178533 ...\n",
      " $ started_at                                      : POSIXct[1:1108163], format: \"2019-04-01 00:02:22\" \"2019-04-01 00:03:02\" ...\n",
      " $ ended_at                                        : POSIXct[1:1108163], format: \"2019-04-01 00:09:48\" \"2019-04-01 00:20:30\" ...\n",
      " $ rideable_type                                   : num [1:1108163] 6251 6226 5649 4151 3270 ...\n",
      " $ 01 - Rental Details Duration In Seconds Uncapped: num [1:1108163] 446 1048 252 357 1007 ...\n",
      " $ start_station_id                                : num [1:1108163] 81 317 283 26 202 420 503 260 211 211 ...\n",
      " $ start_station_name                              : chr [1:1108163] \"Daley Center Plaza\" \"Wood St & Taylor St\" \"LaSalle St & Jackson Blvd\" \"McClurg Ct & Illinois St\" ...\n",
      " $ end_station_id                                  : num [1:1108163] 56 59 174 133 129 426 500 499 211 211 ...\n",
      " $ end_station_name                                : chr [1:1108163] \"Desplaines St & Kinzie St\" \"Wabash Ave & Roosevelt Rd\" \"Canal St & Madison St\" \"Kingsbury St & Kinzie St\" ...\n",
      " $ member_casual                                   : chr [1:1108163] \"Subscriber\" \"Subscriber\" \"Subscriber\" \"Subscriber\" ...\n",
      " $ Member Gender                                   : chr [1:1108163] \"Male\" \"Female\" \"Male\" \"Male\" ...\n",
      " $ 05 - Member Details Member Birthday Year        : num [1:1108163] 1975 1984 1990 1993 1992 ...\n",
      " - attr(*, \"spec\")=\n",
      "  .. cols(\n",
      "  ..   `01 - Rental Details Rental ID` = \u001b[32mcol_double()\u001b[39m,\n",
      "  ..   `01 - Rental Details Local Start Time` = \u001b[34mcol_datetime(format = \"\")\u001b[39m,\n",
      "  ..   `01 - Rental Details Local End Time` = \u001b[34mcol_datetime(format = \"\")\u001b[39m,\n",
      "  ..   `01 - Rental Details Bike ID` = \u001b[32mcol_double()\u001b[39m,\n",
      "  ..   `01 - Rental Details Duration In Seconds Uncapped` = \u001b[32mcol_number()\u001b[39m,\n",
      "  ..   `03 - Rental Start Station ID` = \u001b[32mcol_double()\u001b[39m,\n",
      "  ..   `03 - Rental Start Station Name` = \u001b[31mcol_character()\u001b[39m,\n",
      "  ..   `02 - Rental End Station ID` = \u001b[32mcol_double()\u001b[39m,\n",
      "  ..   `02 - Rental End Station Name` = \u001b[31mcol_character()\u001b[39m,\n",
      "  ..   `User Type` = \u001b[31mcol_character()\u001b[39m,\n",
      "  ..   `Member Gender` = \u001b[31mcol_character()\u001b[39m,\n",
      "  ..   `05 - Member Details Member Birthday Year` = \u001b[32mcol_double()\u001b[39m\n",
      "  .. )\n",
      " - attr(*, \"problems\")=<externalptr> \n"
     ]
    }
   ],
   "source": [
    "# Inspect the data frames and look for inconsistencies:\n",
    "\n",
    "str(q1_2020)\n",
    "\n",
    "str(q4_2019)\n",
    "\n",
    "str(q3_2019)\n",
    "\n",
    "str(q2_2019)"
   ]
  },
  {
   "cell_type": "code",
   "execution_count": 6,
   "id": "7aaf009c",
   "metadata": {
    "execution": {
     "iopub.execute_input": "2024-01-12T15:54:14.864567Z",
     "iopub.status.busy": "2024-01-12T15:54:14.862790Z",
     "iopub.status.idle": "2024-01-12T15:54:14.898689Z",
     "shell.execute_reply": "2024-01-12T15:54:14.896701Z"
    },
    "papermill": {
     "duration": 0.053969,
     "end_time": "2024-01-12T15:54:14.901369",
     "exception": false,
     "start_time": "2024-01-12T15:54:14.847400",
     "status": "completed"
    },
    "tags": []
   },
   "outputs": [],
   "source": [
    "# Convert ride_id and rideable_type to character so that they can stack correctly:\n",
    "\n",
    "q4_2019 <- mutate(q4_2019,\n",
    "                  ride_id = as.character(ride_id),\n",
    "                  rideable_type = as.character(rideable_type))\n",
    "\n",
    "q3_2019 <- mutate(q3_2019,\n",
    "                  ride_id = as.character(ride_id),\n",
    "                  rideable_type = as.character(rideable_type))\n",
    "\n",
    "q2_2019 <- mutate(q2_2019,\n",
    "                  ride_id = as.character(ride_id),\n",
    "                  rideable_type = as.character(rideable_type))"
   ]
  },
  {
   "cell_type": "code",
   "execution_count": 7,
   "id": "f74fa6e4",
   "metadata": {
    "execution": {
     "iopub.execute_input": "2024-01-12T15:54:14.932422Z",
     "iopub.status.busy": "2024-01-12T15:54:14.930655Z",
     "iopub.status.idle": "2024-01-12T15:54:30.073846Z",
     "shell.execute_reply": "2024-01-12T15:54:30.071849Z"
    },
    "papermill": {
     "duration": 15.162376,
     "end_time": "2024-01-12T15:54:30.077143",
     "exception": false,
     "start_time": "2024-01-12T15:54:14.914767",
     "status": "completed"
    },
    "tags": []
   },
   "outputs": [],
   "source": [
    "# Stack individual quarter's data frames into one big data frame:\n",
    "\n",
    "all_trips <- bind_rows(q2_2019, q3_2019, q4_2019, q1_2020)"
   ]
  },
  {
   "cell_type": "code",
   "execution_count": 8,
   "id": "d339e206",
   "metadata": {
    "execution": {
     "iopub.execute_input": "2024-01-12T15:54:30.109013Z",
     "iopub.status.busy": "2024-01-12T15:54:30.107248Z",
     "iopub.status.idle": "2024-01-12T15:54:30.133553Z",
     "shell.execute_reply": "2024-01-12T15:54:30.131222Z"
    },
    "papermill": {
     "duration": 0.045016,
     "end_time": "2024-01-12T15:54:30.136411",
     "exception": false,
     "start_time": "2024-01-12T15:54:30.091395",
     "status": "completed"
    },
    "tags": []
   },
   "outputs": [],
   "source": [
    "# Remove unnecessary columns:\n",
    "\n",
    "all_trips <- all_trips %>%\n",
    "  select(-c(start_lat, start_lng, end_lat, end_lng, birthyear, gender, \n",
    "            \"01 - Rental Details Duration In Seconds Uncapped\", \n",
    "            \"05 - Member Details Member Birthday Year\", \"Member Gender\", \"tripduration\"))"
   ]
  },
  {
   "cell_type": "markdown",
   "id": "1ed5c126",
   "metadata": {
    "papermill": {
     "duration": 0.013527,
     "end_time": "2024-01-12T15:54:30.163541",
     "exception": false,
     "start_time": "2024-01-12T15:54:30.150014",
     "status": "completed"
    },
    "tags": []
   },
   "source": [
    "# 4. Clean data before analysis"
   ]
  },
  {
   "cell_type": "code",
   "execution_count": 9,
   "id": "d041e1ea",
   "metadata": {
    "execution": {
     "iopub.execute_input": "2024-01-12T15:54:30.194470Z",
     "iopub.status.busy": "2024-01-12T15:54:30.192546Z",
     "iopub.status.idle": "2024-01-12T15:54:30.283723Z",
     "shell.execute_reply": "2024-01-12T15:54:30.281787Z"
    },
    "papermill": {
     "duration": 0.109537,
     "end_time": "2024-01-12T15:54:30.286526",
     "exception": false,
     "start_time": "2024-01-12T15:54:30.176989",
     "status": "completed"
    },
    "tags": []
   },
   "outputs": [
    {
     "data": {
      "text/html": [
       "<style>\n",
       ".list-inline {list-style: none; margin:0; padding: 0}\n",
       ".list-inline>li {display: inline-block}\n",
       ".list-inline>li:not(:last-child)::after {content: \"\\00b7\"; padding: 0 .5ex}\n",
       "</style>\n",
       "<ol class=list-inline><li>'ride_id'</li><li>'started_at'</li><li>'ended_at'</li><li>'rideable_type'</li><li>'start_station_id'</li><li>'start_station_name'</li><li>'end_station_id'</li><li>'end_station_name'</li><li>'member_casual'</li></ol>\n"
      ],
      "text/latex": [
       "\\begin{enumerate*}\n",
       "\\item 'ride\\_id'\n",
       "\\item 'started\\_at'\n",
       "\\item 'ended\\_at'\n",
       "\\item 'rideable\\_type'\n",
       "\\item 'start\\_station\\_id'\n",
       "\\item 'start\\_station\\_name'\n",
       "\\item 'end\\_station\\_id'\n",
       "\\item 'end\\_station\\_name'\n",
       "\\item 'member\\_casual'\n",
       "\\end{enumerate*}\n"
      ],
      "text/markdown": [
       "1. 'ride_id'\n",
       "2. 'started_at'\n",
       "3. 'ended_at'\n",
       "4. 'rideable_type'\n",
       "5. 'start_station_id'\n",
       "6. 'start_station_name'\n",
       "7. 'end_station_id'\n",
       "8. 'end_station_name'\n",
       "9. 'member_casual'\n",
       "\n",
       "\n"
      ],
      "text/plain": [
       "[1] \"ride_id\"            \"started_at\"         \"ended_at\"          \n",
       "[4] \"rideable_type\"      \"start_station_id\"   \"start_station_name\"\n",
       "[7] \"end_station_id\"     \"end_station_name\"   \"member_casual\"     "
      ]
     },
     "metadata": {},
     "output_type": "display_data"
    },
    {
     "data": {
      "text/html": [
       "3879822"
      ],
      "text/latex": [
       "3879822"
      ],
      "text/markdown": [
       "3879822"
      ],
      "text/plain": [
       "[1] 3879822"
      ]
     },
     "metadata": {},
     "output_type": "display_data"
    },
    {
     "data": {
      "text/html": [
       "<style>\n",
       ".list-inline {list-style: none; margin:0; padding: 0}\n",
       ".list-inline>li {display: inline-block}\n",
       ".list-inline>li:not(:last-child)::after {content: \"\\00b7\"; padding: 0 .5ex}\n",
       "</style>\n",
       "<ol class=list-inline><li>3879822</li><li>9</li></ol>\n"
      ],
      "text/latex": [
       "\\begin{enumerate*}\n",
       "\\item 3879822\n",
       "\\item 9\n",
       "\\end{enumerate*}\n"
      ],
      "text/markdown": [
       "1. 3879822\n",
       "2. 9\n",
       "\n",
       "\n"
      ],
      "text/plain": [
       "[1] 3879822       9"
      ]
     },
     "metadata": {},
     "output_type": "display_data"
    },
    {
     "data": {
      "text/html": [
       "<table class=\"dataframe\">\n",
       "<caption>A tibble: 6 × 9</caption>\n",
       "<thead>\n",
       "\t<tr><th scope=col>ride_id</th><th scope=col>started_at</th><th scope=col>ended_at</th><th scope=col>rideable_type</th><th scope=col>start_station_id</th><th scope=col>start_station_name</th><th scope=col>end_station_id</th><th scope=col>end_station_name</th><th scope=col>member_casual</th></tr>\n",
       "\t<tr><th scope=col>&lt;chr&gt;</th><th scope=col>&lt;dttm&gt;</th><th scope=col>&lt;dttm&gt;</th><th scope=col>&lt;chr&gt;</th><th scope=col>&lt;dbl&gt;</th><th scope=col>&lt;chr&gt;</th><th scope=col>&lt;dbl&gt;</th><th scope=col>&lt;chr&gt;</th><th scope=col>&lt;chr&gt;</th></tr>\n",
       "</thead>\n",
       "<tbody>\n",
       "\t<tr><td>22178529</td><td>2019-04-01 00:02:22</td><td>2019-04-01 00:09:48</td><td>6251</td><td> 81</td><td><span style=white-space:pre-wrap>Daley Center Plaza       </span></td><td> 56</td><td>Desplaines St &amp; Kinzie St</td><td>Subscriber</td></tr>\n",
       "\t<tr><td>22178530</td><td>2019-04-01 00:03:02</td><td>2019-04-01 00:20:30</td><td>6226</td><td>317</td><td><span style=white-space:pre-wrap>Wood St &amp; Taylor St      </span></td><td> 59</td><td>Wabash Ave &amp; Roosevelt Rd</td><td>Subscriber</td></tr>\n",
       "\t<tr><td>22178531</td><td>2019-04-01 00:11:07</td><td>2019-04-01 00:15:19</td><td>5649</td><td>283</td><td>LaSalle St &amp; Jackson Blvd</td><td>174</td><td><span style=white-space:pre-wrap>Canal St &amp; Madison St    </span></td><td>Subscriber</td></tr>\n",
       "\t<tr><td>22178532</td><td>2019-04-01 00:13:01</td><td>2019-04-01 00:18:58</td><td>4151</td><td> 26</td><td>McClurg Ct &amp; Illinois St </td><td>133</td><td>Kingsbury St &amp; Kinzie St </td><td>Subscriber</td></tr>\n",
       "\t<tr><td>22178533</td><td>2019-04-01 00:19:26</td><td>2019-04-01 00:36:13</td><td>3270</td><td>202</td><td><span style=white-space:pre-wrap>Halsted St &amp; 18th St     </span></td><td>129</td><td>Blue Island Ave &amp; 18th St</td><td>Subscriber</td></tr>\n",
       "\t<tr><td>22178534</td><td>2019-04-01 00:19:39</td><td>2019-04-01 00:23:56</td><td>3123</td><td>420</td><td><span style=white-space:pre-wrap>Ellis Ave &amp; 55th St      </span></td><td>426</td><td><span style=white-space:pre-wrap>Ellis Ave &amp; 60th St      </span></td><td>Subscriber</td></tr>\n",
       "</tbody>\n",
       "</table>\n"
      ],
      "text/latex": [
       "A tibble: 6 × 9\n",
       "\\begin{tabular}{lllllllll}\n",
       " ride\\_id & started\\_at & ended\\_at & rideable\\_type & start\\_station\\_id & start\\_station\\_name & end\\_station\\_id & end\\_station\\_name & member\\_casual\\\\\n",
       " <chr> & <dttm> & <dttm> & <chr> & <dbl> & <chr> & <dbl> & <chr> & <chr>\\\\\n",
       "\\hline\n",
       "\t 22178529 & 2019-04-01 00:02:22 & 2019-04-01 00:09:48 & 6251 &  81 & Daley Center Plaza        &  56 & Desplaines St \\& Kinzie St & Subscriber\\\\\n",
       "\t 22178530 & 2019-04-01 00:03:02 & 2019-04-01 00:20:30 & 6226 & 317 & Wood St \\& Taylor St       &  59 & Wabash Ave \\& Roosevelt Rd & Subscriber\\\\\n",
       "\t 22178531 & 2019-04-01 00:11:07 & 2019-04-01 00:15:19 & 5649 & 283 & LaSalle St \\& Jackson Blvd & 174 & Canal St \\& Madison St     & Subscriber\\\\\n",
       "\t 22178532 & 2019-04-01 00:13:01 & 2019-04-01 00:18:58 & 4151 &  26 & McClurg Ct \\& Illinois St  & 133 & Kingsbury St \\& Kinzie St  & Subscriber\\\\\n",
       "\t 22178533 & 2019-04-01 00:19:26 & 2019-04-01 00:36:13 & 3270 & 202 & Halsted St \\& 18th St      & 129 & Blue Island Ave \\& 18th St & Subscriber\\\\\n",
       "\t 22178534 & 2019-04-01 00:19:39 & 2019-04-01 00:23:56 & 3123 & 420 & Ellis Ave \\& 55th St       & 426 & Ellis Ave \\& 60th St       & Subscriber\\\\\n",
       "\\end{tabular}\n"
      ],
      "text/markdown": [
       "\n",
       "A tibble: 6 × 9\n",
       "\n",
       "| ride_id &lt;chr&gt; | started_at &lt;dttm&gt; | ended_at &lt;dttm&gt; | rideable_type &lt;chr&gt; | start_station_id &lt;dbl&gt; | start_station_name &lt;chr&gt; | end_station_id &lt;dbl&gt; | end_station_name &lt;chr&gt; | member_casual &lt;chr&gt; |\n",
       "|---|---|---|---|---|---|---|---|---|\n",
       "| 22178529 | 2019-04-01 00:02:22 | 2019-04-01 00:09:48 | 6251 |  81 | Daley Center Plaza        |  56 | Desplaines St &amp; Kinzie St | Subscriber |\n",
       "| 22178530 | 2019-04-01 00:03:02 | 2019-04-01 00:20:30 | 6226 | 317 | Wood St &amp; Taylor St       |  59 | Wabash Ave &amp; Roosevelt Rd | Subscriber |\n",
       "| 22178531 | 2019-04-01 00:11:07 | 2019-04-01 00:15:19 | 5649 | 283 | LaSalle St &amp; Jackson Blvd | 174 | Canal St &amp; Madison St     | Subscriber |\n",
       "| 22178532 | 2019-04-01 00:13:01 | 2019-04-01 00:18:58 | 4151 |  26 | McClurg Ct &amp; Illinois St  | 133 | Kingsbury St &amp; Kinzie St  | Subscriber |\n",
       "| 22178533 | 2019-04-01 00:19:26 | 2019-04-01 00:36:13 | 3270 | 202 | Halsted St &amp; 18th St      | 129 | Blue Island Ave &amp; 18th St | Subscriber |\n",
       "| 22178534 | 2019-04-01 00:19:39 | 2019-04-01 00:23:56 | 3123 | 420 | Ellis Ave &amp; 55th St       | 426 | Ellis Ave &amp; 60th St       | Subscriber |\n",
       "\n"
      ],
      "text/plain": [
       "  ride_id  started_at          ended_at            rideable_type\n",
       "1 22178529 2019-04-01 00:02:22 2019-04-01 00:09:48 6251         \n",
       "2 22178530 2019-04-01 00:03:02 2019-04-01 00:20:30 6226         \n",
       "3 22178531 2019-04-01 00:11:07 2019-04-01 00:15:19 5649         \n",
       "4 22178532 2019-04-01 00:13:01 2019-04-01 00:18:58 4151         \n",
       "5 22178533 2019-04-01 00:19:26 2019-04-01 00:36:13 3270         \n",
       "6 22178534 2019-04-01 00:19:39 2019-04-01 00:23:56 3123         \n",
       "  start_station_id start_station_name        end_station_id\n",
       "1  81              Daley Center Plaza         56           \n",
       "2 317              Wood St & Taylor St        59           \n",
       "3 283              LaSalle St & Jackson Blvd 174           \n",
       "4  26              McClurg Ct & Illinois St  133           \n",
       "5 202              Halsted St & 18th St      129           \n",
       "6 420              Ellis Ave & 55th St       426           \n",
       "  end_station_name          member_casual\n",
       "1 Desplaines St & Kinzie St Subscriber   \n",
       "2 Wabash Ave & Roosevelt Rd Subscriber   \n",
       "3 Canal St & Madison St     Subscriber   \n",
       "4 Kingsbury St & Kinzie St  Subscriber   \n",
       "5 Blue Island Ave & 18th St Subscriber   \n",
       "6 Ellis Ave & 60th St       Subscriber   "
      ]
     },
     "metadata": {},
     "output_type": "display_data"
    },
    {
     "name": "stdout",
     "output_type": "stream",
     "text": [
      "tibble [3,879,822 × 9] (S3: tbl_df/tbl/data.frame)\n",
      " $ ride_id           : chr [1:3879822] \"22178529\" \"22178530\" \"22178531\" \"22178532\" ...\n",
      " $ started_at        : POSIXct[1:3879822], format: \"2019-04-01 00:02:22\" \"2019-04-01 00:03:02\" ...\n",
      " $ ended_at          : POSIXct[1:3879822], format: \"2019-04-01 00:09:48\" \"2019-04-01 00:20:30\" ...\n",
      " $ rideable_type     : chr [1:3879822] \"6251\" \"6226\" \"5649\" \"4151\" ...\n",
      " $ start_station_id  : num [1:3879822] 81 317 283 26 202 420 503 260 211 211 ...\n",
      " $ start_station_name: chr [1:3879822] \"Daley Center Plaza\" \"Wood St & Taylor St\" \"LaSalle St & Jackson Blvd\" \"McClurg Ct & Illinois St\" ...\n",
      " $ end_station_id    : num [1:3879822] 56 59 174 133 129 426 500 499 211 211 ...\n",
      " $ end_station_name  : chr [1:3879822] \"Desplaines St & Kinzie St\" \"Wabash Ave & Roosevelt Rd\" \"Canal St & Madison St\" \"Kingsbury St & Kinzie St\" ...\n",
      " $ member_casual     : chr [1:3879822] \"Subscriber\" \"Subscriber\" \"Subscriber\" \"Subscriber\" ...\n"
     ]
    }
   ],
   "source": [
    "# Inspect the new table that has been created:\n",
    "\n",
    "colnames(all_trips)\n",
    "nrow(all_trips)\n",
    "dim(all_trips)\n",
    "head(all_trips)\n",
    "str(all_trips)"
   ]
  },
  {
   "cell_type": "code",
   "execution_count": 10,
   "id": "6e030529",
   "metadata": {
    "execution": {
     "iopub.execute_input": "2024-01-12T15:54:30.320170Z",
     "iopub.status.busy": "2024-01-12T15:54:30.318213Z",
     "iopub.status.idle": "2024-01-12T15:54:30.676616Z",
     "shell.execute_reply": "2024-01-12T15:54:30.674264Z"
    },
    "papermill": {
     "duration": 0.378539,
     "end_time": "2024-01-12T15:54:30.679899",
     "exception": false,
     "start_time": "2024-01-12T15:54:30.301360",
     "status": "completed"
    },
    "tags": []
   },
   "outputs": [
    {
     "data": {
      "text/plain": [
       "\n",
       "    casual   Customer     member Subscriber \n",
       "     48480     857474     378407    2595461 "
      ]
     },
     "metadata": {},
     "output_type": "display_data"
    }
   ],
   "source": [
    "# Begin by seeing how many observations fall under each usertype:\n",
    "\n",
    "table(all_trips$member_casual)"
   ]
  },
  {
   "cell_type": "code",
   "execution_count": 11,
   "id": "511ca71b",
   "metadata": {
    "execution": {
     "iopub.execute_input": "2024-01-12T15:54:30.713928Z",
     "iopub.status.busy": "2024-01-12T15:54:30.711868Z",
     "iopub.status.idle": "2024-01-12T15:54:31.502858Z",
     "shell.execute_reply": "2024-01-12T15:54:31.500694Z"
    },
    "papermill": {
     "duration": 0.811078,
     "end_time": "2024-01-12T15:54:31.505763",
     "exception": false,
     "start_time": "2024-01-12T15:54:30.694685",
     "status": "completed"
    },
    "tags": []
   },
   "outputs": [],
   "source": [
    "# Reassign to the desired values:\n",
    "\n",
    "all_trips <- all_trips %>%\n",
    "  mutate(member_casual=recode(member_casual, \"Subscriber\"=\"member\", \"Customer\"=\"casual\"))"
   ]
  },
  {
   "cell_type": "code",
   "execution_count": 12,
   "id": "f9550c5b",
   "metadata": {
    "execution": {
     "iopub.execute_input": "2024-01-12T15:54:31.540317Z",
     "iopub.status.busy": "2024-01-12T15:54:31.538536Z",
     "iopub.status.idle": "2024-01-12T15:54:32.577454Z",
     "shell.execute_reply": "2024-01-12T15:54:32.575506Z"
    },
    "papermill": {
     "duration": 1.059051,
     "end_time": "2024-01-12T15:54:32.580058",
     "exception": false,
     "start_time": "2024-01-12T15:54:31.521007",
     "status": "completed"
    },
    "tags": []
   },
   "outputs": [
    {
     "data": {
      "text/plain": [
       "\n",
       " casual  member \n",
       " 905954 2973868 "
      ]
     },
     "metadata": {},
     "output_type": "display_data"
    }
   ],
   "source": [
    "# Check to make sure the proper number of observations were reassigned:\n",
    "\n",
    "table(all_trips$member_casual)"
   ]
  },
  {
   "cell_type": "code",
   "execution_count": 13,
   "id": "d08f73eb",
   "metadata": {
    "execution": {
     "iopub.execute_input": "2024-01-12T15:54:32.613803Z",
     "iopub.status.busy": "2024-01-12T15:54:32.612001Z",
     "iopub.status.idle": "2024-01-12T15:54:38.306109Z",
     "shell.execute_reply": "2024-01-12T15:54:38.302837Z"
    },
    "papermill": {
     "duration": 5.715431,
     "end_time": "2024-01-12T15:54:38.310344",
     "exception": false,
     "start_time": "2024-01-12T15:54:32.594913",
     "status": "completed"
    },
    "tags": []
   },
   "outputs": [],
   "source": [
    "# Add columns that list the date, month, day, year of each ride:\n",
    "\n",
    "all_trips$date <- as.Date(all_trips$started_at)\n",
    "all_trips$month <- format(as.Date(all_trips$date), \"%m\")\n",
    "all_trips$day <- format(as.Date(all_trips$date), \"%d\")\n",
    "all_trips$year <- format(as.Date(all_trips$date), \"%Y\")\n",
    "all_trips$day_of_week <- format(as.Date(all_trips$date), \"%A\")"
   ]
  },
  {
   "cell_type": "code",
   "execution_count": 14,
   "id": "02e23bae",
   "metadata": {
    "execution": {
     "iopub.execute_input": "2024-01-12T15:54:38.353868Z",
     "iopub.status.busy": "2024-01-12T15:54:38.350956Z",
     "iopub.status.idle": "2024-01-12T15:54:38.417921Z",
     "shell.execute_reply": "2024-01-12T15:54:38.415735Z"
    },
    "papermill": {
     "duration": 0.090079,
     "end_time": "2024-01-12T15:54:38.422619",
     "exception": false,
     "start_time": "2024-01-12T15:54:38.332540",
     "status": "completed"
    },
    "tags": []
   },
   "outputs": [
    {
     "data": {
      "text/html": [
       "<table class=\"dataframe\">\n",
       "<caption>A tibble: 6 × 14</caption>\n",
       "<thead>\n",
       "\t<tr><th scope=col>ride_id</th><th scope=col>started_at</th><th scope=col>ended_at</th><th scope=col>rideable_type</th><th scope=col>start_station_id</th><th scope=col>start_station_name</th><th scope=col>end_station_id</th><th scope=col>end_station_name</th><th scope=col>member_casual</th><th scope=col>date</th><th scope=col>month</th><th scope=col>day</th><th scope=col>year</th><th scope=col>day_of_week</th></tr>\n",
       "\t<tr><th scope=col>&lt;chr&gt;</th><th scope=col>&lt;dttm&gt;</th><th scope=col>&lt;dttm&gt;</th><th scope=col>&lt;chr&gt;</th><th scope=col>&lt;dbl&gt;</th><th scope=col>&lt;chr&gt;</th><th scope=col>&lt;dbl&gt;</th><th scope=col>&lt;chr&gt;</th><th scope=col>&lt;chr&gt;</th><th scope=col>&lt;date&gt;</th><th scope=col>&lt;chr&gt;</th><th scope=col>&lt;chr&gt;</th><th scope=col>&lt;chr&gt;</th><th scope=col>&lt;chr&gt;</th></tr>\n",
       "</thead>\n",
       "<tbody>\n",
       "\t<tr><td>22178529</td><td>2019-04-01 00:02:22</td><td>2019-04-01 00:09:48</td><td>6251</td><td> 81</td><td><span style=white-space:pre-wrap>Daley Center Plaza       </span></td><td> 56</td><td>Desplaines St &amp; Kinzie St</td><td>member</td><td>2019-04-01</td><td>04</td><td>01</td><td>2019</td><td>Monday</td></tr>\n",
       "\t<tr><td>22178530</td><td>2019-04-01 00:03:02</td><td>2019-04-01 00:20:30</td><td>6226</td><td>317</td><td><span style=white-space:pre-wrap>Wood St &amp; Taylor St      </span></td><td> 59</td><td>Wabash Ave &amp; Roosevelt Rd</td><td>member</td><td>2019-04-01</td><td>04</td><td>01</td><td>2019</td><td>Monday</td></tr>\n",
       "\t<tr><td>22178531</td><td>2019-04-01 00:11:07</td><td>2019-04-01 00:15:19</td><td>5649</td><td>283</td><td>LaSalle St &amp; Jackson Blvd</td><td>174</td><td><span style=white-space:pre-wrap>Canal St &amp; Madison St    </span></td><td>member</td><td>2019-04-01</td><td>04</td><td>01</td><td>2019</td><td>Monday</td></tr>\n",
       "\t<tr><td>22178532</td><td>2019-04-01 00:13:01</td><td>2019-04-01 00:18:58</td><td>4151</td><td> 26</td><td>McClurg Ct &amp; Illinois St </td><td>133</td><td>Kingsbury St &amp; Kinzie St </td><td>member</td><td>2019-04-01</td><td>04</td><td>01</td><td>2019</td><td>Monday</td></tr>\n",
       "\t<tr><td>22178533</td><td>2019-04-01 00:19:26</td><td>2019-04-01 00:36:13</td><td>3270</td><td>202</td><td><span style=white-space:pre-wrap>Halsted St &amp; 18th St     </span></td><td>129</td><td>Blue Island Ave &amp; 18th St</td><td>member</td><td>2019-04-01</td><td>04</td><td>01</td><td>2019</td><td>Monday</td></tr>\n",
       "\t<tr><td>22178534</td><td>2019-04-01 00:19:39</td><td>2019-04-01 00:23:56</td><td>3123</td><td>420</td><td><span style=white-space:pre-wrap>Ellis Ave &amp; 55th St      </span></td><td>426</td><td><span style=white-space:pre-wrap>Ellis Ave &amp; 60th St      </span></td><td>member</td><td>2019-04-01</td><td>04</td><td>01</td><td>2019</td><td>Monday</td></tr>\n",
       "</tbody>\n",
       "</table>\n"
      ],
      "text/latex": [
       "A tibble: 6 × 14\n",
       "\\begin{tabular}{llllllllllllll}\n",
       " ride\\_id & started\\_at & ended\\_at & rideable\\_type & start\\_station\\_id & start\\_station\\_name & end\\_station\\_id & end\\_station\\_name & member\\_casual & date & month & day & year & day\\_of\\_week\\\\\n",
       " <chr> & <dttm> & <dttm> & <chr> & <dbl> & <chr> & <dbl> & <chr> & <chr> & <date> & <chr> & <chr> & <chr> & <chr>\\\\\n",
       "\\hline\n",
       "\t 22178529 & 2019-04-01 00:02:22 & 2019-04-01 00:09:48 & 6251 &  81 & Daley Center Plaza        &  56 & Desplaines St \\& Kinzie St & member & 2019-04-01 & 04 & 01 & 2019 & Monday\\\\\n",
       "\t 22178530 & 2019-04-01 00:03:02 & 2019-04-01 00:20:30 & 6226 & 317 & Wood St \\& Taylor St       &  59 & Wabash Ave \\& Roosevelt Rd & member & 2019-04-01 & 04 & 01 & 2019 & Monday\\\\\n",
       "\t 22178531 & 2019-04-01 00:11:07 & 2019-04-01 00:15:19 & 5649 & 283 & LaSalle St \\& Jackson Blvd & 174 & Canal St \\& Madison St     & member & 2019-04-01 & 04 & 01 & 2019 & Monday\\\\\n",
       "\t 22178532 & 2019-04-01 00:13:01 & 2019-04-01 00:18:58 & 4151 &  26 & McClurg Ct \\& Illinois St  & 133 & Kingsbury St \\& Kinzie St  & member & 2019-04-01 & 04 & 01 & 2019 & Monday\\\\\n",
       "\t 22178533 & 2019-04-01 00:19:26 & 2019-04-01 00:36:13 & 3270 & 202 & Halsted St \\& 18th St      & 129 & Blue Island Ave \\& 18th St & member & 2019-04-01 & 04 & 01 & 2019 & Monday\\\\\n",
       "\t 22178534 & 2019-04-01 00:19:39 & 2019-04-01 00:23:56 & 3123 & 420 & Ellis Ave \\& 55th St       & 426 & Ellis Ave \\& 60th St       & member & 2019-04-01 & 04 & 01 & 2019 & Monday\\\\\n",
       "\\end{tabular}\n"
      ],
      "text/markdown": [
       "\n",
       "A tibble: 6 × 14\n",
       "\n",
       "| ride_id &lt;chr&gt; | started_at &lt;dttm&gt; | ended_at &lt;dttm&gt; | rideable_type &lt;chr&gt; | start_station_id &lt;dbl&gt; | start_station_name &lt;chr&gt; | end_station_id &lt;dbl&gt; | end_station_name &lt;chr&gt; | member_casual &lt;chr&gt; | date &lt;date&gt; | month &lt;chr&gt; | day &lt;chr&gt; | year &lt;chr&gt; | day_of_week &lt;chr&gt; |\n",
       "|---|---|---|---|---|---|---|---|---|---|---|---|---|---|\n",
       "| 22178529 | 2019-04-01 00:02:22 | 2019-04-01 00:09:48 | 6251 |  81 | Daley Center Plaza        |  56 | Desplaines St &amp; Kinzie St | member | 2019-04-01 | 04 | 01 | 2019 | Monday |\n",
       "| 22178530 | 2019-04-01 00:03:02 | 2019-04-01 00:20:30 | 6226 | 317 | Wood St &amp; Taylor St       |  59 | Wabash Ave &amp; Roosevelt Rd | member | 2019-04-01 | 04 | 01 | 2019 | Monday |\n",
       "| 22178531 | 2019-04-01 00:11:07 | 2019-04-01 00:15:19 | 5649 | 283 | LaSalle St &amp; Jackson Blvd | 174 | Canal St &amp; Madison St     | member | 2019-04-01 | 04 | 01 | 2019 | Monday |\n",
       "| 22178532 | 2019-04-01 00:13:01 | 2019-04-01 00:18:58 | 4151 |  26 | McClurg Ct &amp; Illinois St  | 133 | Kingsbury St &amp; Kinzie St  | member | 2019-04-01 | 04 | 01 | 2019 | Monday |\n",
       "| 22178533 | 2019-04-01 00:19:26 | 2019-04-01 00:36:13 | 3270 | 202 | Halsted St &amp; 18th St      | 129 | Blue Island Ave &amp; 18th St | member | 2019-04-01 | 04 | 01 | 2019 | Monday |\n",
       "| 22178534 | 2019-04-01 00:19:39 | 2019-04-01 00:23:56 | 3123 | 420 | Ellis Ave &amp; 55th St       | 426 | Ellis Ave &amp; 60th St       | member | 2019-04-01 | 04 | 01 | 2019 | Monday |\n",
       "\n"
      ],
      "text/plain": [
       "  ride_id  started_at          ended_at            rideable_type\n",
       "1 22178529 2019-04-01 00:02:22 2019-04-01 00:09:48 6251         \n",
       "2 22178530 2019-04-01 00:03:02 2019-04-01 00:20:30 6226         \n",
       "3 22178531 2019-04-01 00:11:07 2019-04-01 00:15:19 5649         \n",
       "4 22178532 2019-04-01 00:13:01 2019-04-01 00:18:58 4151         \n",
       "5 22178533 2019-04-01 00:19:26 2019-04-01 00:36:13 3270         \n",
       "6 22178534 2019-04-01 00:19:39 2019-04-01 00:23:56 3123         \n",
       "  start_station_id start_station_name        end_station_id\n",
       "1  81              Daley Center Plaza         56           \n",
       "2 317              Wood St & Taylor St        59           \n",
       "3 283              LaSalle St & Jackson Blvd 174           \n",
       "4  26              McClurg Ct & Illinois St  133           \n",
       "5 202              Halsted St & 18th St      129           \n",
       "6 420              Ellis Ave & 55th St       426           \n",
       "  end_station_name          member_casual date       month day year day_of_week\n",
       "1 Desplaines St & Kinzie St member        2019-04-01 04    01  2019 Monday     \n",
       "2 Wabash Ave & Roosevelt Rd member        2019-04-01 04    01  2019 Monday     \n",
       "3 Canal St & Madison St     member        2019-04-01 04    01  2019 Monday     \n",
       "4 Kingsbury St & Kinzie St  member        2019-04-01 04    01  2019 Monday     \n",
       "5 Blue Island Ave & 18th St member        2019-04-01 04    01  2019 Monday     \n",
       "6 Ellis Ave & 60th St       member        2019-04-01 04    01  2019 Monday     "
      ]
     },
     "metadata": {},
     "output_type": "display_data"
    }
   ],
   "source": [
    "head(all_trips)"
   ]
  },
  {
   "cell_type": "code",
   "execution_count": 15,
   "id": "09433171",
   "metadata": {
    "execution": {
     "iopub.execute_input": "2024-01-12T15:54:38.463101Z",
     "iopub.status.busy": "2024-01-12T15:54:38.461364Z",
     "iopub.status.idle": "2024-01-12T15:54:38.509169Z",
     "shell.execute_reply": "2024-01-12T15:54:38.507161Z"
    },
    "papermill": {
     "duration": 0.070673,
     "end_time": "2024-01-12T15:54:38.512575",
     "exception": false,
     "start_time": "2024-01-12T15:54:38.441902",
     "status": "completed"
    },
    "tags": []
   },
   "outputs": [],
   "source": [
    "# Add a \"ride_length\" calculation to all trips (in seconds):\n",
    "\n",
    "all_trips$ride_length <- difftime(all_trips$ended_at, all_trips$started_at)"
   ]
  },
  {
   "cell_type": "code",
   "execution_count": 16,
   "id": "3bfcb805",
   "metadata": {
    "execution": {
     "iopub.execute_input": "2024-01-12T15:54:38.546768Z",
     "iopub.status.busy": "2024-01-12T15:54:38.544939Z",
     "iopub.status.idle": "2024-01-12T15:54:38.598093Z",
     "shell.execute_reply": "2024-01-12T15:54:38.595379Z"
    },
    "papermill": {
     "duration": 0.073721,
     "end_time": "2024-01-12T15:54:38.601355",
     "exception": false,
     "start_time": "2024-01-12T15:54:38.527634",
     "status": "completed"
    },
    "tags": []
   },
   "outputs": [
    {
     "data": {
      "text/html": [
       "<table class=\"dataframe\">\n",
       "<caption>A tibble: 6 × 15</caption>\n",
       "<thead>\n",
       "\t<tr><th scope=col>ride_id</th><th scope=col>started_at</th><th scope=col>ended_at</th><th scope=col>rideable_type</th><th scope=col>start_station_id</th><th scope=col>start_station_name</th><th scope=col>end_station_id</th><th scope=col>end_station_name</th><th scope=col>member_casual</th><th scope=col>date</th><th scope=col>month</th><th scope=col>day</th><th scope=col>year</th><th scope=col>day_of_week</th><th scope=col>ride_length</th></tr>\n",
       "\t<tr><th scope=col>&lt;chr&gt;</th><th scope=col>&lt;dttm&gt;</th><th scope=col>&lt;dttm&gt;</th><th scope=col>&lt;chr&gt;</th><th scope=col>&lt;dbl&gt;</th><th scope=col>&lt;chr&gt;</th><th scope=col>&lt;dbl&gt;</th><th scope=col>&lt;chr&gt;</th><th scope=col>&lt;chr&gt;</th><th scope=col>&lt;date&gt;</th><th scope=col>&lt;chr&gt;</th><th scope=col>&lt;chr&gt;</th><th scope=col>&lt;chr&gt;</th><th scope=col>&lt;chr&gt;</th><th scope=col>&lt;drtn&gt;</th></tr>\n",
       "</thead>\n",
       "<tbody>\n",
       "\t<tr><td>22178529</td><td>2019-04-01 00:02:22</td><td>2019-04-01 00:09:48</td><td>6251</td><td> 81</td><td><span style=white-space:pre-wrap>Daley Center Plaza       </span></td><td> 56</td><td>Desplaines St &amp; Kinzie St</td><td>member</td><td>2019-04-01</td><td>04</td><td>01</td><td>2019</td><td>Monday</td><td> 446 secs</td></tr>\n",
       "\t<tr><td>22178530</td><td>2019-04-01 00:03:02</td><td>2019-04-01 00:20:30</td><td>6226</td><td>317</td><td><span style=white-space:pre-wrap>Wood St &amp; Taylor St      </span></td><td> 59</td><td>Wabash Ave &amp; Roosevelt Rd</td><td>member</td><td>2019-04-01</td><td>04</td><td>01</td><td>2019</td><td>Monday</td><td>1048 secs</td></tr>\n",
       "\t<tr><td>22178531</td><td>2019-04-01 00:11:07</td><td>2019-04-01 00:15:19</td><td>5649</td><td>283</td><td>LaSalle St &amp; Jackson Blvd</td><td>174</td><td><span style=white-space:pre-wrap>Canal St &amp; Madison St    </span></td><td>member</td><td>2019-04-01</td><td>04</td><td>01</td><td>2019</td><td>Monday</td><td> 252 secs</td></tr>\n",
       "\t<tr><td>22178532</td><td>2019-04-01 00:13:01</td><td>2019-04-01 00:18:58</td><td>4151</td><td> 26</td><td>McClurg Ct &amp; Illinois St </td><td>133</td><td>Kingsbury St &amp; Kinzie St </td><td>member</td><td>2019-04-01</td><td>04</td><td>01</td><td>2019</td><td>Monday</td><td> 357 secs</td></tr>\n",
       "\t<tr><td>22178533</td><td>2019-04-01 00:19:26</td><td>2019-04-01 00:36:13</td><td>3270</td><td>202</td><td><span style=white-space:pre-wrap>Halsted St &amp; 18th St     </span></td><td>129</td><td>Blue Island Ave &amp; 18th St</td><td>member</td><td>2019-04-01</td><td>04</td><td>01</td><td>2019</td><td>Monday</td><td>1007 secs</td></tr>\n",
       "\t<tr><td>22178534</td><td>2019-04-01 00:19:39</td><td>2019-04-01 00:23:56</td><td>3123</td><td>420</td><td><span style=white-space:pre-wrap>Ellis Ave &amp; 55th St      </span></td><td>426</td><td><span style=white-space:pre-wrap>Ellis Ave &amp; 60th St      </span></td><td>member</td><td>2019-04-01</td><td>04</td><td>01</td><td>2019</td><td>Monday</td><td> 257 secs</td></tr>\n",
       "</tbody>\n",
       "</table>\n"
      ],
      "text/latex": [
       "A tibble: 6 × 15\n",
       "\\begin{tabular}{lllllllllllllll}\n",
       " ride\\_id & started\\_at & ended\\_at & rideable\\_type & start\\_station\\_id & start\\_station\\_name & end\\_station\\_id & end\\_station\\_name & member\\_casual & date & month & day & year & day\\_of\\_week & ride\\_length\\\\\n",
       " <chr> & <dttm> & <dttm> & <chr> & <dbl> & <chr> & <dbl> & <chr> & <chr> & <date> & <chr> & <chr> & <chr> & <chr> & <drtn>\\\\\n",
       "\\hline\n",
       "\t 22178529 & 2019-04-01 00:02:22 & 2019-04-01 00:09:48 & 6251 &  81 & Daley Center Plaza        &  56 & Desplaines St \\& Kinzie St & member & 2019-04-01 & 04 & 01 & 2019 & Monday &  446 secs\\\\\n",
       "\t 22178530 & 2019-04-01 00:03:02 & 2019-04-01 00:20:30 & 6226 & 317 & Wood St \\& Taylor St       &  59 & Wabash Ave \\& Roosevelt Rd & member & 2019-04-01 & 04 & 01 & 2019 & Monday & 1048 secs\\\\\n",
       "\t 22178531 & 2019-04-01 00:11:07 & 2019-04-01 00:15:19 & 5649 & 283 & LaSalle St \\& Jackson Blvd & 174 & Canal St \\& Madison St     & member & 2019-04-01 & 04 & 01 & 2019 & Monday &  252 secs\\\\\n",
       "\t 22178532 & 2019-04-01 00:13:01 & 2019-04-01 00:18:58 & 4151 &  26 & McClurg Ct \\& Illinois St  & 133 & Kingsbury St \\& Kinzie St  & member & 2019-04-01 & 04 & 01 & 2019 & Monday &  357 secs\\\\\n",
       "\t 22178533 & 2019-04-01 00:19:26 & 2019-04-01 00:36:13 & 3270 & 202 & Halsted St \\& 18th St      & 129 & Blue Island Ave \\& 18th St & member & 2019-04-01 & 04 & 01 & 2019 & Monday & 1007 secs\\\\\n",
       "\t 22178534 & 2019-04-01 00:19:39 & 2019-04-01 00:23:56 & 3123 & 420 & Ellis Ave \\& 55th St       & 426 & Ellis Ave \\& 60th St       & member & 2019-04-01 & 04 & 01 & 2019 & Monday &  257 secs\\\\\n",
       "\\end{tabular}\n"
      ],
      "text/markdown": [
       "\n",
       "A tibble: 6 × 15\n",
       "\n",
       "| ride_id &lt;chr&gt; | started_at &lt;dttm&gt; | ended_at &lt;dttm&gt; | rideable_type &lt;chr&gt; | start_station_id &lt;dbl&gt; | start_station_name &lt;chr&gt; | end_station_id &lt;dbl&gt; | end_station_name &lt;chr&gt; | member_casual &lt;chr&gt; | date &lt;date&gt; | month &lt;chr&gt; | day &lt;chr&gt; | year &lt;chr&gt; | day_of_week &lt;chr&gt; | ride_length &lt;drtn&gt; |\n",
       "|---|---|---|---|---|---|---|---|---|---|---|---|---|---|---|\n",
       "| 22178529 | 2019-04-01 00:02:22 | 2019-04-01 00:09:48 | 6251 |  81 | Daley Center Plaza        |  56 | Desplaines St &amp; Kinzie St | member | 2019-04-01 | 04 | 01 | 2019 | Monday |  446 secs |\n",
       "| 22178530 | 2019-04-01 00:03:02 | 2019-04-01 00:20:30 | 6226 | 317 | Wood St &amp; Taylor St       |  59 | Wabash Ave &amp; Roosevelt Rd | member | 2019-04-01 | 04 | 01 | 2019 | Monday | 1048 secs |\n",
       "| 22178531 | 2019-04-01 00:11:07 | 2019-04-01 00:15:19 | 5649 | 283 | LaSalle St &amp; Jackson Blvd | 174 | Canal St &amp; Madison St     | member | 2019-04-01 | 04 | 01 | 2019 | Monday |  252 secs |\n",
       "| 22178532 | 2019-04-01 00:13:01 | 2019-04-01 00:18:58 | 4151 |  26 | McClurg Ct &amp; Illinois St  | 133 | Kingsbury St &amp; Kinzie St  | member | 2019-04-01 | 04 | 01 | 2019 | Monday |  357 secs |\n",
       "| 22178533 | 2019-04-01 00:19:26 | 2019-04-01 00:36:13 | 3270 | 202 | Halsted St &amp; 18th St      | 129 | Blue Island Ave &amp; 18th St | member | 2019-04-01 | 04 | 01 | 2019 | Monday | 1007 secs |\n",
       "| 22178534 | 2019-04-01 00:19:39 | 2019-04-01 00:23:56 | 3123 | 420 | Ellis Ave &amp; 55th St       | 426 | Ellis Ave &amp; 60th St       | member | 2019-04-01 | 04 | 01 | 2019 | Monday |  257 secs |\n",
       "\n"
      ],
      "text/plain": [
       "  ride_id  started_at          ended_at            rideable_type\n",
       "1 22178529 2019-04-01 00:02:22 2019-04-01 00:09:48 6251         \n",
       "2 22178530 2019-04-01 00:03:02 2019-04-01 00:20:30 6226         \n",
       "3 22178531 2019-04-01 00:11:07 2019-04-01 00:15:19 5649         \n",
       "4 22178532 2019-04-01 00:13:01 2019-04-01 00:18:58 4151         \n",
       "5 22178533 2019-04-01 00:19:26 2019-04-01 00:36:13 3270         \n",
       "6 22178534 2019-04-01 00:19:39 2019-04-01 00:23:56 3123         \n",
       "  start_station_id start_station_name        end_station_id\n",
       "1  81              Daley Center Plaza         56           \n",
       "2 317              Wood St & Taylor St        59           \n",
       "3 283              LaSalle St & Jackson Blvd 174           \n",
       "4  26              McClurg Ct & Illinois St  133           \n",
       "5 202              Halsted St & 18th St      129           \n",
       "6 420              Ellis Ave & 55th St       426           \n",
       "  end_station_name          member_casual date       month day year day_of_week\n",
       "1 Desplaines St & Kinzie St member        2019-04-01 04    01  2019 Monday     \n",
       "2 Wabash Ave & Roosevelt Rd member        2019-04-01 04    01  2019 Monday     \n",
       "3 Canal St & Madison St     member        2019-04-01 04    01  2019 Monday     \n",
       "4 Kingsbury St & Kinzie St  member        2019-04-01 04    01  2019 Monday     \n",
       "5 Blue Island Ave & 18th St member        2019-04-01 04    01  2019 Monday     \n",
       "6 Ellis Ave & 60th St       member        2019-04-01 04    01  2019 Monday     \n",
       "  ride_length\n",
       "1  446 secs  \n",
       "2 1048 secs  \n",
       "3  252 secs  \n",
       "4  357 secs  \n",
       "5 1007 secs  \n",
       "6  257 secs  "
      ]
     },
     "metadata": {},
     "output_type": "display_data"
    }
   ],
   "source": [
    "head(all_trips)"
   ]
  },
  {
   "cell_type": "code",
   "execution_count": 17,
   "id": "af5e2ff7",
   "metadata": {
    "execution": {
     "iopub.execute_input": "2024-01-12T15:54:38.636381Z",
     "iopub.status.busy": "2024-01-12T15:54:38.634536Z",
     "iopub.status.idle": "2024-01-12T15:54:38.685488Z",
     "shell.execute_reply": "2024-01-12T15:54:38.682766Z"
    },
    "papermill": {
     "duration": 0.071956,
     "end_time": "2024-01-12T15:54:38.688722",
     "exception": false,
     "start_time": "2024-01-12T15:54:38.616766",
     "status": "completed"
    },
    "tags": []
   },
   "outputs": [
    {
     "name": "stdout",
     "output_type": "stream",
     "text": [
      "tibble [3,879,822 × 15] (S3: tbl_df/tbl/data.frame)\n",
      " $ ride_id           : chr [1:3879822] \"22178529\" \"22178530\" \"22178531\" \"22178532\" ...\n",
      " $ started_at        : POSIXct[1:3879822], format: \"2019-04-01 00:02:22\" \"2019-04-01 00:03:02\" ...\n",
      " $ ended_at          : POSIXct[1:3879822], format: \"2019-04-01 00:09:48\" \"2019-04-01 00:20:30\" ...\n",
      " $ rideable_type     : chr [1:3879822] \"6251\" \"6226\" \"5649\" \"4151\" ...\n",
      " $ start_station_id  : num [1:3879822] 81 317 283 26 202 420 503 260 211 211 ...\n",
      " $ start_station_name: chr [1:3879822] \"Daley Center Plaza\" \"Wood St & Taylor St\" \"LaSalle St & Jackson Blvd\" \"McClurg Ct & Illinois St\" ...\n",
      " $ end_station_id    : num [1:3879822] 56 59 174 133 129 426 500 499 211 211 ...\n",
      " $ end_station_name  : chr [1:3879822] \"Desplaines St & Kinzie St\" \"Wabash Ave & Roosevelt Rd\" \"Canal St & Madison St\" \"Kingsbury St & Kinzie St\" ...\n",
      " $ member_casual     : chr [1:3879822] \"member\" \"member\" \"member\" \"member\" ...\n",
      " $ date              : Date[1:3879822], format: \"2019-04-01\" \"2019-04-01\" ...\n",
      " $ month             : chr [1:3879822] \"04\" \"04\" \"04\" \"04\" ...\n",
      " $ day               : chr [1:3879822] \"01\" \"01\" \"01\" \"01\" ...\n",
      " $ year              : chr [1:3879822] \"2019\" \"2019\" \"2019\" \"2019\" ...\n",
      " $ day_of_week       : chr [1:3879822] \"Monday\" \"Monday\" \"Monday\" \"Monday\" ...\n",
      " $ ride_length       : 'difftime' num [1:3879822] 446 1048 252 357 ...\n",
      "  ..- attr(*, \"units\")= chr \"secs\"\n"
     ]
    }
   ],
   "source": [
    "# Inspect the structure of the columns:\n",
    "\n",
    "str(all_trips)"
   ]
  },
  {
   "cell_type": "code",
   "execution_count": 18,
   "id": "9b6c046b",
   "metadata": {
    "execution": {
     "iopub.execute_input": "2024-01-12T15:54:38.724160Z",
     "iopub.status.busy": "2024-01-12T15:54:38.722468Z",
     "iopub.status.idle": "2024-01-12T15:54:44.286619Z",
     "shell.execute_reply": "2024-01-12T15:54:44.284628Z"
    },
    "papermill": {
     "duration": 5.584756,
     "end_time": "2024-01-12T15:54:44.289515",
     "exception": false,
     "start_time": "2024-01-12T15:54:38.704759",
     "status": "completed"
    },
    "tags": []
   },
   "outputs": [
    {
     "data": {
      "text/html": [
       "FALSE"
      ],
      "text/latex": [
       "FALSE"
      ],
      "text/markdown": [
       "FALSE"
      ],
      "text/plain": [
       "[1] FALSE"
      ]
     },
     "metadata": {},
     "output_type": "display_data"
    },
    {
     "data": {
      "text/html": [
       "TRUE"
      ],
      "text/latex": [
       "TRUE"
      ],
      "text/markdown": [
       "TRUE"
      ],
      "text/plain": [
       "[1] TRUE"
      ]
     },
     "metadata": {},
     "output_type": "display_data"
    }
   ],
   "source": [
    "# Convert \"ride_length\" from the Factor to numeric so we can run calculations on the data:\n",
    "\n",
    "is.factor(all_trips$ride_length)\n",
    "\n",
    "all_trips$ride_length <- as.numeric(as.character(all_trips$ride_length))\n",
    "\n",
    "is.numeric(all_trips$ride_length)"
   ]
  },
  {
   "cell_type": "code",
   "execution_count": 19,
   "id": "f89e366e",
   "metadata": {
    "execution": {
     "iopub.execute_input": "2024-01-12T15:54:44.331510Z",
     "iopub.status.busy": "2024-01-12T15:54:44.328814Z",
     "iopub.status.idle": "2024-01-12T15:54:44.354744Z",
     "shell.execute_reply": "2024-01-12T15:54:44.351556Z"
    },
    "papermill": {
     "duration": 0.053328,
     "end_time": "2024-01-12T15:54:44.359133",
     "exception": false,
     "start_time": "2024-01-12T15:54:44.305805",
     "status": "completed"
    },
    "tags": []
   },
   "outputs": [],
   "source": [
    "# Remove \"bad\" data and create new data frame (v2):\n",
    "\n",
    "all_trips_2 <- all_trips[\"start_station_name\" != \"HQ QR\"]\n",
    "\n",
    "all_trips_2 <- all_trips[\"ride_length\" > 0]"
   ]
  },
  {
   "cell_type": "markdown",
   "id": "cabcc410",
   "metadata": {
    "papermill": {
     "duration": 0.022237,
     "end_time": "2024-01-12T15:54:44.403265",
     "exception": false,
     "start_time": "2024-01-12T15:54:44.381028",
     "status": "completed"
    },
    "tags": []
   },
   "source": [
    "# 5. Descriptive analysis"
   ]
  },
  {
   "cell_type": "code",
   "execution_count": 20,
   "id": "650cc678",
   "metadata": {
    "execution": {
     "iopub.execute_input": "2024-01-12T15:54:44.444963Z",
     "iopub.status.busy": "2024-01-12T15:54:44.443129Z",
     "iopub.status.idle": "2024-01-12T15:54:44.698930Z",
     "shell.execute_reply": "2024-01-12T15:54:44.696872Z"
    },
    "papermill": {
     "duration": 0.278504,
     "end_time": "2024-01-12T15:54:44.701540",
     "exception": false,
     "start_time": "2024-01-12T15:54:44.423036",
     "status": "completed"
    },
    "tags": []
   },
   "outputs": [
    {
     "data": {
      "text/plain": [
       "   Min. 1st Qu.  Median    Mean 3rd Qu.    Max. \n",
       "  -3382     411     711    1478    1288 9387024 "
      ]
     },
     "metadata": {},
     "output_type": "display_data"
    }
   ],
   "source": [
    "# Descriptive analysis on ride_length (all figures in seconds):\n",
    "\n",
    "summary(all_trips_2$ride_length)"
   ]
  },
  {
   "cell_type": "code",
   "execution_count": 21,
   "id": "655171a5",
   "metadata": {
    "execution": {
     "iopub.execute_input": "2024-01-12T15:54:44.741091Z",
     "iopub.status.busy": "2024-01-12T15:54:44.739327Z",
     "iopub.status.idle": "2024-01-12T15:54:51.018996Z",
     "shell.execute_reply": "2024-01-12T15:54:51.017061Z"
    },
    "papermill": {
     "duration": 6.304117,
     "end_time": "2024-01-12T15:54:51.022046",
     "exception": false,
     "start_time": "2024-01-12T15:54:44.717929",
     "status": "completed"
    },
    "tags": []
   },
   "outputs": [
    {
     "data": {
      "text/html": [
       "<table class=\"dataframe\">\n",
       "<caption>A data.frame: 2 × 2</caption>\n",
       "<thead>\n",
       "\t<tr><th scope=col>all_trips_2$member_casual</th><th scope=col>all_trips_2$ride_length</th></tr>\n",
       "\t<tr><th scope=col>&lt;chr&gt;</th><th scope=col>&lt;dbl&gt;</th></tr>\n",
       "</thead>\n",
       "<tbody>\n",
       "\t<tr><td>casual</td><td>3537.9516</td></tr>\n",
       "\t<tr><td>member</td><td> 850.0572</td></tr>\n",
       "</tbody>\n",
       "</table>\n"
      ],
      "text/latex": [
       "A data.frame: 2 × 2\n",
       "\\begin{tabular}{ll}\n",
       " all\\_trips\\_2\\$member\\_casual & all\\_trips\\_2\\$ride\\_length\\\\\n",
       " <chr> & <dbl>\\\\\n",
       "\\hline\n",
       "\t casual & 3537.9516\\\\\n",
       "\t member &  850.0572\\\\\n",
       "\\end{tabular}\n"
      ],
      "text/markdown": [
       "\n",
       "A data.frame: 2 × 2\n",
       "\n",
       "| all_trips_2$member_casual &lt;chr&gt; | all_trips_2$ride_length &lt;dbl&gt; |\n",
       "|---|---|\n",
       "| casual | 3537.9516 |\n",
       "| member |  850.0572 |\n",
       "\n"
      ],
      "text/plain": [
       "  all_trips_2$member_casual all_trips_2$ride_length\n",
       "1 casual                    3537.9516              \n",
       "2 member                     850.0572              "
      ]
     },
     "metadata": {},
     "output_type": "display_data"
    },
    {
     "data": {
      "text/html": [
       "<table class=\"dataframe\">\n",
       "<caption>A data.frame: 2 × 2</caption>\n",
       "<thead>\n",
       "\t<tr><th scope=col>all_trips_2$member_casual</th><th scope=col>all_trips_2$ride_length</th></tr>\n",
       "\t<tr><th scope=col>&lt;chr&gt;</th><th scope=col>&lt;dbl&gt;</th></tr>\n",
       "</thead>\n",
       "<tbody>\n",
       "\t<tr><td>casual</td><td>1540</td></tr>\n",
       "\t<tr><td>member</td><td> 589</td></tr>\n",
       "</tbody>\n",
       "</table>\n"
      ],
      "text/latex": [
       "A data.frame: 2 × 2\n",
       "\\begin{tabular}{ll}\n",
       " all\\_trips\\_2\\$member\\_casual & all\\_trips\\_2\\$ride\\_length\\\\\n",
       " <chr> & <dbl>\\\\\n",
       "\\hline\n",
       "\t casual & 1540\\\\\n",
       "\t member &  589\\\\\n",
       "\\end{tabular}\n"
      ],
      "text/markdown": [
       "\n",
       "A data.frame: 2 × 2\n",
       "\n",
       "| all_trips_2$member_casual &lt;chr&gt; | all_trips_2$ride_length &lt;dbl&gt; |\n",
       "|---|---|\n",
       "| casual | 1540 |\n",
       "| member |  589 |\n",
       "\n"
      ],
      "text/plain": [
       "  all_trips_2$member_casual all_trips_2$ride_length\n",
       "1 casual                    1540                   \n",
       "2 member                     589                   "
      ]
     },
     "metadata": {},
     "output_type": "display_data"
    },
    {
     "data": {
      "text/html": [
       "<table class=\"dataframe\">\n",
       "<caption>A data.frame: 2 × 2</caption>\n",
       "<thead>\n",
       "\t<tr><th scope=col>all_trips_2$member_casual</th><th scope=col>all_trips_2$ride_length</th></tr>\n",
       "\t<tr><th scope=col>&lt;chr&gt;</th><th scope=col>&lt;dbl&gt;</th></tr>\n",
       "</thead>\n",
       "<tbody>\n",
       "\t<tr><td>casual</td><td>9387024</td></tr>\n",
       "\t<tr><td>member</td><td>9056634</td></tr>\n",
       "</tbody>\n",
       "</table>\n"
      ],
      "text/latex": [
       "A data.frame: 2 × 2\n",
       "\\begin{tabular}{ll}\n",
       " all\\_trips\\_2\\$member\\_casual & all\\_trips\\_2\\$ride\\_length\\\\\n",
       " <chr> & <dbl>\\\\\n",
       "\\hline\n",
       "\t casual & 9387024\\\\\n",
       "\t member & 9056634\\\\\n",
       "\\end{tabular}\n"
      ],
      "text/markdown": [
       "\n",
       "A data.frame: 2 × 2\n",
       "\n",
       "| all_trips_2$member_casual &lt;chr&gt; | all_trips_2$ride_length &lt;dbl&gt; |\n",
       "|---|---|\n",
       "| casual | 9387024 |\n",
       "| member | 9056634 |\n",
       "\n"
      ],
      "text/plain": [
       "  all_trips_2$member_casual all_trips_2$ride_length\n",
       "1 casual                    9387024                \n",
       "2 member                    9056634                "
      ]
     },
     "metadata": {},
     "output_type": "display_data"
    }
   ],
   "source": [
    "# Compare members and casual users:\n",
    "\n",
    "aggregate(all_trips_2$ride_length ~ all_trips_2$member_casual, FUN = mean)\n",
    "\n",
    "aggregate(all_trips_2$ride_length ~ all_trips_2$member_casual, FUN = median)\n",
    "\n",
    "aggregate(all_trips_2$ride_length ~ all_trips_2$member_casual, FUN = max)"
   ]
  },
  {
   "cell_type": "code",
   "execution_count": 22,
   "id": "0059a2d7",
   "metadata": {
    "execution": {
     "iopub.execute_input": "2024-01-12T15:54:51.060351Z",
     "iopub.status.busy": "2024-01-12T15:54:51.058550Z",
     "iopub.status.idle": "2024-01-12T15:54:54.395164Z",
     "shell.execute_reply": "2024-01-12T15:54:54.392914Z"
    },
    "papermill": {
     "duration": 3.360153,
     "end_time": "2024-01-12T15:54:54.399259",
     "exception": false,
     "start_time": "2024-01-12T15:54:51.039106",
     "status": "completed"
    },
    "tags": []
   },
   "outputs": [
    {
     "data": {
      "text/html": [
       "<table class=\"dataframe\">\n",
       "<caption>A data.frame: 14 × 3</caption>\n",
       "<thead>\n",
       "\t<tr><th scope=col>all_trips_2$member_casual</th><th scope=col>all_trips_2$day_of_week</th><th scope=col>all_trips_2$ride_length</th></tr>\n",
       "\t<tr><th scope=col>&lt;chr&gt;</th><th scope=col>&lt;chr&gt;</th><th scope=col>&lt;dbl&gt;</th></tr>\n",
       "</thead>\n",
       "<tbody>\n",
       "\t<tr><td>casual</td><td>Friday   </td><td>3757.6020</td></tr>\n",
       "\t<tr><td>member</td><td>Friday   </td><td> 824.5305</td></tr>\n",
       "\t<tr><td>casual</td><td>Monday   </td><td>3335.0036</td></tr>\n",
       "\t<tr><td>member</td><td>Monday   </td><td> 842.5726</td></tr>\n",
       "\t<tr><td>casual</td><td>Saturday </td><td>3331.9138</td></tr>\n",
       "\t<tr><td>member</td><td>Saturday </td><td> 968.9337</td></tr>\n",
       "\t<tr><td>casual</td><td>Sunday   </td><td>3581.2009</td></tr>\n",
       "\t<tr><td>member</td><td>Sunday   </td><td> 919.8764</td></tr>\n",
       "\t<tr><td>casual</td><td>Thursday </td><td>3659.1917</td></tr>\n",
       "\t<tr><td>member</td><td>Thursday </td><td> 823.9278</td></tr>\n",
       "\t<tr><td>casual</td><td>Tuesday  </td><td>3569.5238</td></tr>\n",
       "\t<tr><td>member</td><td>Tuesday  </td><td> 826.1427</td></tr>\n",
       "\t<tr><td>casual</td><td>Wednesday</td><td>3689.4704</td></tr>\n",
       "\t<tr><td>member</td><td>Wednesday</td><td> 823.9980</td></tr>\n",
       "</tbody>\n",
       "</table>\n"
      ],
      "text/latex": [
       "A data.frame: 14 × 3\n",
       "\\begin{tabular}{lll}\n",
       " all\\_trips\\_2\\$member\\_casual & all\\_trips\\_2\\$day\\_of\\_week & all\\_trips\\_2\\$ride\\_length\\\\\n",
       " <chr> & <chr> & <dbl>\\\\\n",
       "\\hline\n",
       "\t casual & Friday    & 3757.6020\\\\\n",
       "\t member & Friday    &  824.5305\\\\\n",
       "\t casual & Monday    & 3335.0036\\\\\n",
       "\t member & Monday    &  842.5726\\\\\n",
       "\t casual & Saturday  & 3331.9138\\\\\n",
       "\t member & Saturday  &  968.9337\\\\\n",
       "\t casual & Sunday    & 3581.2009\\\\\n",
       "\t member & Sunday    &  919.8764\\\\\n",
       "\t casual & Thursday  & 3659.1917\\\\\n",
       "\t member & Thursday  &  823.9278\\\\\n",
       "\t casual & Tuesday   & 3569.5238\\\\\n",
       "\t member & Tuesday   &  826.1427\\\\\n",
       "\t casual & Wednesday & 3689.4704\\\\\n",
       "\t member & Wednesday &  823.9980\\\\\n",
       "\\end{tabular}\n"
      ],
      "text/markdown": [
       "\n",
       "A data.frame: 14 × 3\n",
       "\n",
       "| all_trips_2$member_casual &lt;chr&gt; | all_trips_2$day_of_week &lt;chr&gt; | all_trips_2$ride_length &lt;dbl&gt; |\n",
       "|---|---|---|\n",
       "| casual | Friday    | 3757.6020 |\n",
       "| member | Friday    |  824.5305 |\n",
       "| casual | Monday    | 3335.0036 |\n",
       "| member | Monday    |  842.5726 |\n",
       "| casual | Saturday  | 3331.9138 |\n",
       "| member | Saturday  |  968.9337 |\n",
       "| casual | Sunday    | 3581.2009 |\n",
       "| member | Sunday    |  919.8764 |\n",
       "| casual | Thursday  | 3659.1917 |\n",
       "| member | Thursday  |  823.9278 |\n",
       "| casual | Tuesday   | 3569.5238 |\n",
       "| member | Tuesday   |  826.1427 |\n",
       "| casual | Wednesday | 3689.4704 |\n",
       "| member | Wednesday |  823.9980 |\n",
       "\n"
      ],
      "text/plain": [
       "   all_trips_2$member_casual all_trips_2$day_of_week all_trips_2$ride_length\n",
       "1  casual                    Friday                  3757.6020              \n",
       "2  member                    Friday                   824.5305              \n",
       "3  casual                    Monday                  3335.0036              \n",
       "4  member                    Monday                   842.5726              \n",
       "5  casual                    Saturday                3331.9138              \n",
       "6  member                    Saturday                 968.9337              \n",
       "7  casual                    Sunday                  3581.2009              \n",
       "8  member                    Sunday                   919.8764              \n",
       "9  casual                    Thursday                3659.1917              \n",
       "10 member                    Thursday                 823.9278              \n",
       "11 casual                    Tuesday                 3569.5238              \n",
       "12 member                    Tuesday                  826.1427              \n",
       "13 casual                    Wednesday               3689.4704              \n",
       "14 member                    Wednesday                823.9980              "
      ]
     },
     "metadata": {},
     "output_type": "display_data"
    }
   ],
   "source": [
    "# See the average time by each day for members vs casual users:\n",
    "\n",
    "aggregate(all_trips_2$ride_length ~ all_trips_2$member_casual + all_trips_2$day_of_week, FUN = mean)"
   ]
  },
  {
   "cell_type": "code",
   "execution_count": 23,
   "id": "18a09cea",
   "metadata": {
    "execution": {
     "iopub.execute_input": "2024-01-12T15:54:54.439379Z",
     "iopub.status.busy": "2024-01-12T15:54:54.437522Z",
     "iopub.status.idle": "2024-01-12T15:54:54.563389Z",
     "shell.execute_reply": "2024-01-12T15:54:54.561098Z"
    },
    "papermill": {
     "duration": 0.148166,
     "end_time": "2024-01-12T15:54:54.566134",
     "exception": false,
     "start_time": "2024-01-12T15:54:54.417968",
     "status": "completed"
    },
    "tags": []
   },
   "outputs": [],
   "source": [
    "# Notice that the days of the week are out of order. Let's fix that.\n",
    "\n",
    "all_trips_2$day_of_week <- ordered(all_trips_2$day_of_week, levels=c(\"Sunday\", \"Monday\", \"Tuesday\", \"Wednesday\", \"Thursday\", \"Friday\", \"Saturday\"))"
   ]
  },
  {
   "cell_type": "code",
   "execution_count": 24,
   "id": "2368b011",
   "metadata": {
    "execution": {
     "iopub.execute_input": "2024-01-12T15:54:54.604778Z",
     "iopub.status.busy": "2024-01-12T15:54:54.602989Z",
     "iopub.status.idle": "2024-01-12T15:54:57.189666Z",
     "shell.execute_reply": "2024-01-12T15:54:57.187681Z"
    },
    "papermill": {
     "duration": 2.609412,
     "end_time": "2024-01-12T15:54:57.192786",
     "exception": false,
     "start_time": "2024-01-12T15:54:54.583374",
     "status": "completed"
    },
    "tags": []
   },
   "outputs": [
    {
     "data": {
      "text/html": [
       "<table class=\"dataframe\">\n",
       "<caption>A data.frame: 14 × 3</caption>\n",
       "<thead>\n",
       "\t<tr><th scope=col>all_trips_2$member_casual</th><th scope=col>all_trips_2$day_of_week</th><th scope=col>all_trips_2$ride_length</th></tr>\n",
       "\t<tr><th scope=col>&lt;chr&gt;</th><th scope=col>&lt;ord&gt;</th><th scope=col>&lt;dbl&gt;</th></tr>\n",
       "</thead>\n",
       "<tbody>\n",
       "\t<tr><td>casual</td><td>Sunday   </td><td>3581.2009</td></tr>\n",
       "\t<tr><td>member</td><td>Sunday   </td><td> 919.8764</td></tr>\n",
       "\t<tr><td>casual</td><td>Monday   </td><td>3335.0036</td></tr>\n",
       "\t<tr><td>member</td><td>Monday   </td><td> 842.5726</td></tr>\n",
       "\t<tr><td>casual</td><td>Tuesday  </td><td>3569.5238</td></tr>\n",
       "\t<tr><td>member</td><td>Tuesday  </td><td> 826.1427</td></tr>\n",
       "\t<tr><td>casual</td><td>Wednesday</td><td>3689.4704</td></tr>\n",
       "\t<tr><td>member</td><td>Wednesday</td><td> 823.9980</td></tr>\n",
       "\t<tr><td>casual</td><td>Thursday </td><td>3659.1917</td></tr>\n",
       "\t<tr><td>member</td><td>Thursday </td><td> 823.9278</td></tr>\n",
       "\t<tr><td>casual</td><td>Friday   </td><td>3757.6020</td></tr>\n",
       "\t<tr><td>member</td><td>Friday   </td><td> 824.5305</td></tr>\n",
       "\t<tr><td>casual</td><td>Saturday </td><td>3331.9138</td></tr>\n",
       "\t<tr><td>member</td><td>Saturday </td><td> 968.9337</td></tr>\n",
       "</tbody>\n",
       "</table>\n"
      ],
      "text/latex": [
       "A data.frame: 14 × 3\n",
       "\\begin{tabular}{lll}\n",
       " all\\_trips\\_2\\$member\\_casual & all\\_trips\\_2\\$day\\_of\\_week & all\\_trips\\_2\\$ride\\_length\\\\\n",
       " <chr> & <ord> & <dbl>\\\\\n",
       "\\hline\n",
       "\t casual & Sunday    & 3581.2009\\\\\n",
       "\t member & Sunday    &  919.8764\\\\\n",
       "\t casual & Monday    & 3335.0036\\\\\n",
       "\t member & Monday    &  842.5726\\\\\n",
       "\t casual & Tuesday   & 3569.5238\\\\\n",
       "\t member & Tuesday   &  826.1427\\\\\n",
       "\t casual & Wednesday & 3689.4704\\\\\n",
       "\t member & Wednesday &  823.9980\\\\\n",
       "\t casual & Thursday  & 3659.1917\\\\\n",
       "\t member & Thursday  &  823.9278\\\\\n",
       "\t casual & Friday    & 3757.6020\\\\\n",
       "\t member & Friday    &  824.5305\\\\\n",
       "\t casual & Saturday  & 3331.9138\\\\\n",
       "\t member & Saturday  &  968.9337\\\\\n",
       "\\end{tabular}\n"
      ],
      "text/markdown": [
       "\n",
       "A data.frame: 14 × 3\n",
       "\n",
       "| all_trips_2$member_casual &lt;chr&gt; | all_trips_2$day_of_week &lt;ord&gt; | all_trips_2$ride_length &lt;dbl&gt; |\n",
       "|---|---|---|\n",
       "| casual | Sunday    | 3581.2009 |\n",
       "| member | Sunday    |  919.8764 |\n",
       "| casual | Monday    | 3335.0036 |\n",
       "| member | Monday    |  842.5726 |\n",
       "| casual | Tuesday   | 3569.5238 |\n",
       "| member | Tuesday   |  826.1427 |\n",
       "| casual | Wednesday | 3689.4704 |\n",
       "| member | Wednesday |  823.9980 |\n",
       "| casual | Thursday  | 3659.1917 |\n",
       "| member | Thursday  |  823.9278 |\n",
       "| casual | Friday    | 3757.6020 |\n",
       "| member | Friday    |  824.5305 |\n",
       "| casual | Saturday  | 3331.9138 |\n",
       "| member | Saturday  |  968.9337 |\n",
       "\n"
      ],
      "text/plain": [
       "   all_trips_2$member_casual all_trips_2$day_of_week all_trips_2$ride_length\n",
       "1  casual                    Sunday                  3581.2009              \n",
       "2  member                    Sunday                   919.8764              \n",
       "3  casual                    Monday                  3335.0036              \n",
       "4  member                    Monday                   842.5726              \n",
       "5  casual                    Tuesday                 3569.5238              \n",
       "6  member                    Tuesday                  826.1427              \n",
       "7  casual                    Wednesday               3689.4704              \n",
       "8  member                    Wednesday                823.9980              \n",
       "9  casual                    Thursday                3659.1917              \n",
       "10 member                    Thursday                 823.9278              \n",
       "11 casual                    Friday                  3757.6020              \n",
       "12 member                    Friday                   824.5305              \n",
       "13 casual                    Saturday                3331.9138              \n",
       "14 member                    Saturday                 968.9337              "
      ]
     },
     "metadata": {},
     "output_type": "display_data"
    }
   ],
   "source": [
    "# Let's check:\n",
    "\n",
    "aggregate(all_trips_2$ride_length ~ all_trips_2$member_casual + all_trips_2$day_of_week, FUN = mean)"
   ]
  },
  {
   "cell_type": "code",
   "execution_count": 25,
   "id": "5e825573",
   "metadata": {
    "collapsed": true,
    "execution": {
     "iopub.execute_input": "2024-01-12T15:54:57.233296Z",
     "iopub.status.busy": "2024-01-12T15:54:57.231412Z",
     "iopub.status.idle": "2024-01-12T15:55:02.171034Z",
     "shell.execute_reply": "2024-01-12T15:55:02.169023Z"
    },
    "jupyter": {
     "outputs_hidden": true
    },
    "papermill": {
     "duration": 4.963972,
     "end_time": "2024-01-12T15:55:02.174780",
     "exception": false,
     "start_time": "2024-01-12T15:54:57.210808",
     "status": "completed"
    },
    "tags": []
   },
   "outputs": [
    {
     "name": "stderr",
     "output_type": "stream",
     "text": [
      "\u001b[1m\u001b[22m`summarise()` has grouped output by 'member_casual'. You can override using the\n",
      "`.groups` argument.\n"
     ]
    }
   ],
   "source": [
    "# Analyze ridership data by type and weekday:\n",
    "\n",
    "all_trips_3 <- all_trips_2 %>%\n",
    "  mutate(weekday=wday(date, label=TRUE)) %>%\n",
    "  group_by(member_casual, weekday) %>%\n",
    "  summarise(number_of_rides = n(), average_duration=mean(ride_length)) %>%\n",
    "  arrange(member_casual,weekday)"
   ]
  },
  {
   "cell_type": "code",
   "execution_count": 26,
   "id": "6ef01137",
   "metadata": {
    "execution": {
     "iopub.execute_input": "2024-01-12T15:55:02.216981Z",
     "iopub.status.busy": "2024-01-12T15:55:02.214861Z",
     "iopub.status.idle": "2024-01-12T15:55:02.253939Z",
     "shell.execute_reply": "2024-01-12T15:55:02.252022Z"
    },
    "papermill": {
     "duration": 0.063357,
     "end_time": "2024-01-12T15:55:02.256558",
     "exception": false,
     "start_time": "2024-01-12T15:55:02.193201",
     "status": "completed"
    },
    "tags": []
   },
   "outputs": [
    {
     "data": {
      "text/html": [
       "<table class=\"dataframe\">\n",
       "<caption>A grouped_df: 14 × 4</caption>\n",
       "<thead>\n",
       "\t<tr><th scope=col>member_casual</th><th scope=col>weekday</th><th scope=col>number_of_rides</th><th scope=col>average_duration</th></tr>\n",
       "\t<tr><th scope=col>&lt;chr&gt;</th><th scope=col>&lt;ord&gt;</th><th scope=col>&lt;int&gt;</th><th scope=col>&lt;dbl&gt;</th></tr>\n",
       "</thead>\n",
       "<tbody>\n",
       "\t<tr><td>casual</td><td>Sun</td><td>181299</td><td>3581.2009</td></tr>\n",
       "\t<tr><td>casual</td><td>Mon</td><td>104452</td><td>3335.0036</td></tr>\n",
       "\t<tr><td>casual</td><td>Tue</td><td> 91191</td><td>3569.5238</td></tr>\n",
       "\t<tr><td>casual</td><td>Wed</td><td> 93189</td><td>3689.4704</td></tr>\n",
       "\t<tr><td>casual</td><td>Thu</td><td>103347</td><td>3659.1917</td></tr>\n",
       "\t<tr><td>casual</td><td>Fri</td><td>122933</td><td>3757.6020</td></tr>\n",
       "\t<tr><td>casual</td><td>Sat</td><td>209543</td><td>3331.9138</td></tr>\n",
       "\t<tr><td>member</td><td>Sun</td><td>267972</td><td> 919.8764</td></tr>\n",
       "\t<tr><td>member</td><td>Mon</td><td>472196</td><td> 842.5726</td></tr>\n",
       "\t<tr><td>member</td><td>Tue</td><td>508445</td><td> 826.1427</td></tr>\n",
       "\t<tr><td>member</td><td>Wed</td><td>500330</td><td> 823.9980</td></tr>\n",
       "\t<tr><td>member</td><td>Thu</td><td>484177</td><td> 823.9278</td></tr>\n",
       "\t<tr><td>member</td><td>Fri</td><td>452790</td><td> 824.5305</td></tr>\n",
       "\t<tr><td>member</td><td>Sat</td><td>287958</td><td> 968.9337</td></tr>\n",
       "</tbody>\n",
       "</table>\n"
      ],
      "text/latex": [
       "A grouped\\_df: 14 × 4\n",
       "\\begin{tabular}{llll}\n",
       " member\\_casual & weekday & number\\_of\\_rides & average\\_duration\\\\\n",
       " <chr> & <ord> & <int> & <dbl>\\\\\n",
       "\\hline\n",
       "\t casual & Sun & 181299 & 3581.2009\\\\\n",
       "\t casual & Mon & 104452 & 3335.0036\\\\\n",
       "\t casual & Tue &  91191 & 3569.5238\\\\\n",
       "\t casual & Wed &  93189 & 3689.4704\\\\\n",
       "\t casual & Thu & 103347 & 3659.1917\\\\\n",
       "\t casual & Fri & 122933 & 3757.6020\\\\\n",
       "\t casual & Sat & 209543 & 3331.9138\\\\\n",
       "\t member & Sun & 267972 &  919.8764\\\\\n",
       "\t member & Mon & 472196 &  842.5726\\\\\n",
       "\t member & Tue & 508445 &  826.1427\\\\\n",
       "\t member & Wed & 500330 &  823.9980\\\\\n",
       "\t member & Thu & 484177 &  823.9278\\\\\n",
       "\t member & Fri & 452790 &  824.5305\\\\\n",
       "\t member & Sat & 287958 &  968.9337\\\\\n",
       "\\end{tabular}\n"
      ],
      "text/markdown": [
       "\n",
       "A grouped_df: 14 × 4\n",
       "\n",
       "| member_casual &lt;chr&gt; | weekday &lt;ord&gt; | number_of_rides &lt;int&gt; | average_duration &lt;dbl&gt; |\n",
       "|---|---|---|---|\n",
       "| casual | Sun | 181299 | 3581.2009 |\n",
       "| casual | Mon | 104452 | 3335.0036 |\n",
       "| casual | Tue |  91191 | 3569.5238 |\n",
       "| casual | Wed |  93189 | 3689.4704 |\n",
       "| casual | Thu | 103347 | 3659.1917 |\n",
       "| casual | Fri | 122933 | 3757.6020 |\n",
       "| casual | Sat | 209543 | 3331.9138 |\n",
       "| member | Sun | 267972 |  919.8764 |\n",
       "| member | Mon | 472196 |  842.5726 |\n",
       "| member | Tue | 508445 |  826.1427 |\n",
       "| member | Wed | 500330 |  823.9980 |\n",
       "| member | Thu | 484177 |  823.9278 |\n",
       "| member | Fri | 452790 |  824.5305 |\n",
       "| member | Sat | 287958 |  968.9337 |\n",
       "\n"
      ],
      "text/plain": [
       "   member_casual weekday number_of_rides average_duration\n",
       "1  casual        Sun     181299          3581.2009       \n",
       "2  casual        Mon     104452          3335.0036       \n",
       "3  casual        Tue      91191          3569.5238       \n",
       "4  casual        Wed      93189          3689.4704       \n",
       "5  casual        Thu     103347          3659.1917       \n",
       "6  casual        Fri     122933          3757.6020       \n",
       "7  casual        Sat     209543          3331.9138       \n",
       "8  member        Sun     267972           919.8764       \n",
       "9  member        Mon     472196           842.5726       \n",
       "10 member        Tue     508445           826.1427       \n",
       "11 member        Wed     500330           823.9980       \n",
       "12 member        Thu     484177           823.9278       \n",
       "13 member        Fri     452790           824.5305       \n",
       "14 member        Sat     287958           968.9337       "
      ]
     },
     "metadata": {},
     "output_type": "display_data"
    }
   ],
   "source": [
    "View(all_trips_3)"
   ]
  },
  {
   "cell_type": "markdown",
   "id": "c006830b",
   "metadata": {
    "papermill": {
     "duration": 0.018662,
     "end_time": "2024-01-12T15:55:02.293641",
     "exception": false,
     "start_time": "2024-01-12T15:55:02.274979",
     "status": "completed"
    },
    "tags": []
   },
   "source": [
    "# 6. Visualization"
   ]
  },
  {
   "cell_type": "code",
   "execution_count": 27,
   "id": "8a6ad86c",
   "metadata": {
    "execution": {
     "iopub.execute_input": "2024-01-12T15:55:02.334573Z",
     "iopub.status.busy": "2024-01-12T15:55:02.332635Z",
     "iopub.status.idle": "2024-01-12T15:55:02.981149Z",
     "shell.execute_reply": "2024-01-12T15:55:02.978860Z"
    },
    "papermill": {
     "duration": 0.671566,
     "end_time": "2024-01-12T15:55:02.983971",
     "exception": false,
     "start_time": "2024-01-12T15:55:02.312405",
     "status": "completed"
    },
    "tags": []
   },
   "outputs": [
    {
     "data": {
      "image/png": "[encoded data removed]"
     },
     "metadata": {
      "image/png": {
       "height": 420,
       "width": 420
      }
     },
     "output_type": "display_data"
    }
   ],
   "source": [
    "# Let's visualize the number of rides by rider type:\n",
    "\n",
    "all_trips_3 %>%\n",
    "  ggplot(aes(x = weekday, y = number_of_rides, fill = member_casual)) +\n",
    "  geom_col(position = \"dodge\")\n"
   ]
  },
  {
   "cell_type": "code",
   "execution_count": 28,
   "id": "1d870609",
   "metadata": {
    "execution": {
     "iopub.execute_input": "2024-01-12T15:55:03.067631Z",
     "iopub.status.busy": "2024-01-12T15:55:03.065786Z",
     "iopub.status.idle": "2024-01-12T15:55:03.425670Z",
     "shell.execute_reply": "2024-01-12T15:55:03.423370Z"
    },
    "papermill": {
     "duration": 0.383568,
     "end_time": "2024-01-12T15:55:03.428332",
     "exception": false,
     "start_time": "2024-01-12T15:55:03.044764",
     "status": "completed"
    },
    "tags": []
   },
   "outputs": [
    {
     "data": {
      "image/png": "[encoded data removed]"
     },
     "metadata": {
      "image/png": {
       "height": 420,
       "width": 420
      }
     },
     "output_type": "display_data"
    }
   ],
   "source": [
    "# Let's visualize for average duration:\n",
    "\n",
    "all_trips_3 %>%\n",
    "  ggplot(aes(x = weekday, y = average_duration, fill = member_casual)) +\n",
    "  geom_col(position = \"dodge\")\n"
   ]
  },
  {
   "cell_type": "code",
   "execution_count": null,
   "id": "eebd1234",
   "metadata": {
    "papermill": {
     "duration": 0.019382,
     "end_time": "2024-01-12T15:55:03.467555",
     "exception": false,
     "start_time": "2024-01-12T15:55:03.448173",
     "status": "completed"
    },
    "tags": []
   },
   "outputs": [],
   "source": []
  }
 ],
 "metadata": {
  "kaggle": {
   "accelerator": "none",
   "dataSources": [
    {
     "datasetId": 4295988,
     "sourceId": 7390185,
     "sourceType": "datasetVersion"
    }
   ],
   "dockerImageVersionId": 30618,
   "isGpuEnabled": false,
   "isInternetEnabled": true,
   "language": "r",
   "sourceType": "notebook"
  },
  "kernelspec": {
   "display_name": "R",
   "language": "R",
   "name": "ir"
  },
  "language_info": {
   "codemirror_mode": "r",
   "file_extension": ".r",
   "mimetype": "text/x-r-source",
   "name": "R",
   "pygments_lexer": "r",
   "version": "4.0.5"
  },
  "papermill": {
   "default_parameters": {},
   "duration": 78.016164,
   "end_time": "2024-01-12T15:55:03.710128",
   "environment_variables": {},
   "exception": null,
   "input_path": "__notebook__.ipynb",
   "output_path": "__notebook__.ipynb",
   "parameters": {},
   "start_time": "2024-01-12T15:53:45.693964",
   "version": "2.5.0"
  }
 },
 "nbformat": 4,
 "nbformat_minor": 5
}
